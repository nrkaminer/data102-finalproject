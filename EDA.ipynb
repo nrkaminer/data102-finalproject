{
 "cells": [
  {
   "cell_type": "code",
   "execution_count": null,
   "metadata": {},
   "outputs": [],
   "source": [
    "import pandas as pd\n",
    "import numpy as np\n",
    "import matplotlib.pyplot as plt"
   ]
  },
  {
   "cell_type": "code",
   "execution_count": null,
   "metadata": {},
   "outputs": [],
   "source": [
    "batting = pd.read_csv('data/core/Batting.csv')\n",
    "batting = batting[batting['yearID'] > 1980]\n",
    "batting = batting[batting['yearID'] < 2020]\n",
    "batting"
   ]
  },
  {
   "cell_type": "code",
   "execution_count": null,
   "metadata": {},
   "outputs": [],
   "source": [
    "players_per_year = batting.groupby(by = 'yearID').count()['playerID']"
   ]
  },
  {
   "cell_type": "code",
   "execution_count": null,
   "metadata": {},
   "outputs": [],
   "source": [
    "hr_per_year = batting.groupby(by = 'yearID').sum()['HR']"
   ]
  },
  {
   "cell_type": "code",
   "execution_count": null,
   "metadata": {},
   "outputs": [],
   "source": [
    "plt.plot(players_per_year)"
   ]
  },
  {
   "cell_type": "code",
   "execution_count": null,
   "metadata": {},
   "outputs": [],
   "source": [
    "plt.plot(hr_per_year)"
   ]
  },
  {
   "cell_type": "code",
   "execution_count": null,
   "metadata": {},
   "outputs": [],
   "source": [
    "hr_per_player_per_year = hr_per_year / players_per_year"
   ]
  },
  {
   "cell_type": "markdown",
   "metadata": {},
   "source": [
    "# Visualization 1"
   ]
  },
  {
   "cell_type": "code",
   "execution_count": null,
   "metadata": {},
   "outputs": [],
   "source": [
    "plt.xlabel('year')\n",
    "plt.ylabel('hr per player')\n",
    "plt.plot(hr_per_player_per_year)"
   ]
  },
  {
   "cell_type": "code",
   "execution_count": null,
   "metadata": {},
   "outputs": [],
   "source": [
    "hr_per_team = batting.groupby(by = 'teamID').sum()['HR'].sort_values()\n",
    "fig = plt.figure()\n",
    "ax = fig.add_axes([0,0,3,2])\n",
    "ax.bar(hr_per_team.index, hr_per_team.values)\n",
    "plt.show()"
   ]
  },
  {
   "cell_type": "code",
   "execution_count": null,
   "metadata": {},
   "outputs": [],
   "source": [
    "salaries = pd.read_csv('data/core/Salaries.csv')\n",
    "salaries = salaries[salaries['yearID'] > 2000]\n",
    "salaries = salaries[salaries['salary'] > 0]\n",
    "salaries"
   ]
  },
  {
   "cell_type": "code",
   "execution_count": null,
   "metadata": {},
   "outputs": [],
   "source": [
    "maxes = salaries.groupby(by = 'teamID').max()['salary']\n",
    "mins = salaries.groupby(by = 'teamID').min()['salary']\n",
    "means = salaries.groupby(by = 'teamID').mean()['salary'].sort_values()\n",
    "\n",
    "diff = maxes - mins\n",
    "diff = diff.sort_values()\n",
    "salary_ratio = (maxes / mins).sort_values()\n",
    "#salary_ratio"
   ]
  },
  {
   "cell_type": "markdown",
   "metadata": {},
   "source": [
    "# Visualization 2"
   ]
  },
  {
   "cell_type": "code",
   "execution_count": null,
   "metadata": {},
   "outputs": [],
   "source": [
    "fig = plt.figure()\n",
    "ax = fig.add_axes([0,0,3,2])\n",
    "ax.bar(means.index, means.values)\n",
    "plt.xlabel('Team')\n",
    "plt.ylabel('Avg Salary')\n",
    "plt.show()"
   ]
  },
  {
   "cell_type": "code",
   "execution_count": null,
   "metadata": {},
   "outputs": [],
   "source": [
    "'''\n",
    "fig = plt.figure()\n",
    "ax = fig.add_axes([0,0,4,2])\n",
    "n= len(diff)\n",
    "r = np.arange(n)\n",
    "width = .5\n",
    "  \n",
    "plt.bar(r, list(mins.values), color = 'b', width = width, edgecolor = 'black', label='mins')\n",
    "plt.bar(r + width, list(maxes.values), color = 'g', width = width, edgecolor = 'black', label='maxes')\n",
    "  \n",
    "plt.xlabel(\"Year\")\n",
    "plt.ylabel(\"salary\")\n",
    "plt.title(\"Anual Team Salaries\")\n",
    "  \n",
    "# plt.grid(linestyle='--')\n",
    "plt.xticks(r + width/2, mins.index)\n",
    "plt.legend()\n",
    "  \n",
    "plt.show()\n",
    "'''"
   ]
  },
  {
   "cell_type": "code",
   "execution_count": null,
   "metadata": {},
   "outputs": [],
   "source": []
  }
 ],
 "metadata": {
  "kernelspec": {
   "display_name": "Python 3",
   "language": "python",
   "name": "python3"
  },
  "language_info": {
   "codemirror_mode": {
    "name": "ipython",
    "version": 3
   },
   "file_extension": ".py",
   "mimetype": "text/x-python",
   "name": "python",
   "nbconvert_exporter": "python",
   "pygments_lexer": "ipython3",
   "version": "3.8.8"
  }
 },
 "nbformat": 4,
 "nbformat_minor": 4
}
