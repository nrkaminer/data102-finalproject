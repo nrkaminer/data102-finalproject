{
 "cells": [
  {
   "cell_type": "markdown",
   "metadata": {},
   "source": [
    "# Predicting All-Star Status of MLB Pitchers"
   ]
  },
  {
   "cell_type": "markdown",
   "metadata": {},
   "source": [
    "## Notebook Setup"
   ]
  },
  {
   "cell_type": "code",
   "execution_count": 1,
   "metadata": {},
   "outputs": [],
   "source": [
    "import pandas as pd\n",
    "import numpy as np\n",
    "from sklearn.ensemble import RandomForestRegressor\n",
    "from sklearn.ensemble import RandomForestClassifier\n",
    "from sklearn.linear_model import LogisticRegression\n",
    "import scipy.stats\n",
    "import matplotlib.pyplot as plt\n",
    "from matplotlib.pyplot import figure\n",
    "from sklearn.model_selection import train_test_split\n",
    "from sklearn import metrics\n",
    "from sklearn.model_selection import RandomizedSearchCV\n",
    "import warnings"
   ]
  },
  {
   "cell_type": "code",
   "execution_count": 2,
   "metadata": {},
   "outputs": [],
   "source": [
    "warnings.filterwarnings('ignore')\n",
    "np.random.seed(seed = 42)"
   ]
  },
  {
   "cell_type": "markdown",
   "metadata": {},
   "source": [
    "# MLB Pitching Data: Pre-processing and cleaning"
   ]
  },
  {
   "cell_type": "code",
   "execution_count": 3,
   "metadata": {},
   "outputs": [
    {
     "data": {
      "text/html": [
       "<div>\n",
       "<style scoped>\n",
       "    .dataframe tbody tr th:only-of-type {\n",
       "        vertical-align: middle;\n",
       "    }\n",
       "\n",
       "    .dataframe tbody tr th {\n",
       "        vertical-align: top;\n",
       "    }\n",
       "\n",
       "    .dataframe thead th {\n",
       "        text-align: right;\n",
       "    }\n",
       "</style>\n",
       "<table border=\"1\" class=\"dataframe\">\n",
       "  <thead>\n",
       "    <tr style=\"text-align: right;\">\n",
       "      <th></th>\n",
       "      <th>playerID</th>\n",
       "      <th>yearID</th>\n",
       "      <th>stint</th>\n",
       "      <th>teamID</th>\n",
       "      <th>lgID</th>\n",
       "      <th>W</th>\n",
       "      <th>L</th>\n",
       "      <th>G</th>\n",
       "      <th>GS</th>\n",
       "      <th>CG</th>\n",
       "      <th>...</th>\n",
       "      <th>IBB</th>\n",
       "      <th>WP</th>\n",
       "      <th>HBP</th>\n",
       "      <th>BK</th>\n",
       "      <th>BFP</th>\n",
       "      <th>GF</th>\n",
       "      <th>R</th>\n",
       "      <th>SH</th>\n",
       "      <th>SF</th>\n",
       "      <th>GIDP</th>\n",
       "    </tr>\n",
       "  </thead>\n",
       "  <tbody>\n",
       "    <tr>\n",
       "      <th>24984</th>\n",
       "      <td>aasedo01</td>\n",
       "      <td>1985</td>\n",
       "      <td>1</td>\n",
       "      <td>BAL</td>\n",
       "      <td>AL</td>\n",
       "      <td>10</td>\n",
       "      <td>6</td>\n",
       "      <td>54</td>\n",
       "      <td>0</td>\n",
       "      <td>0</td>\n",
       "      <td>...</td>\n",
       "      <td>7.0</td>\n",
       "      <td>0</td>\n",
       "      <td>1.0</td>\n",
       "      <td>1</td>\n",
       "      <td>366.0</td>\n",
       "      <td>43</td>\n",
       "      <td>44</td>\n",
       "      <td>5.0</td>\n",
       "      <td>3.0</td>\n",
       "      <td>13.0</td>\n",
       "    </tr>\n",
       "    <tr>\n",
       "      <th>24985</th>\n",
       "      <td>abregjo01</td>\n",
       "      <td>1985</td>\n",
       "      <td>1</td>\n",
       "      <td>CHN</td>\n",
       "      <td>NL</td>\n",
       "      <td>1</td>\n",
       "      <td>1</td>\n",
       "      <td>6</td>\n",
       "      <td>5</td>\n",
       "      <td>0</td>\n",
       "      <td>...</td>\n",
       "      <td>1.0</td>\n",
       "      <td>0</td>\n",
       "      <td>0.0</td>\n",
       "      <td>0</td>\n",
       "      <td>109.0</td>\n",
       "      <td>0</td>\n",
       "      <td>18</td>\n",
       "      <td>5.0</td>\n",
       "      <td>1.0</td>\n",
       "      <td>3.0</td>\n",
       "    </tr>\n",
       "    <tr>\n",
       "      <th>24986</th>\n",
       "      <td>ackerji01</td>\n",
       "      <td>1985</td>\n",
       "      <td>1</td>\n",
       "      <td>TOR</td>\n",
       "      <td>AL</td>\n",
       "      <td>7</td>\n",
       "      <td>2</td>\n",
       "      <td>61</td>\n",
       "      <td>0</td>\n",
       "      <td>0</td>\n",
       "      <td>...</td>\n",
       "      <td>1.0</td>\n",
       "      <td>2</td>\n",
       "      <td>3.0</td>\n",
       "      <td>0</td>\n",
       "      <td>370.0</td>\n",
       "      <td>26</td>\n",
       "      <td>35</td>\n",
       "      <td>1.0</td>\n",
       "      <td>2.0</td>\n",
       "      <td>16.0</td>\n",
       "    </tr>\n",
       "    <tr>\n",
       "      <th>24987</th>\n",
       "      <td>agostju01</td>\n",
       "      <td>1985</td>\n",
       "      <td>1</td>\n",
       "      <td>CHA</td>\n",
       "      <td>AL</td>\n",
       "      <td>4</td>\n",
       "      <td>3</td>\n",
       "      <td>54</td>\n",
       "      <td>0</td>\n",
       "      <td>0</td>\n",
       "      <td>...</td>\n",
       "      <td>1.0</td>\n",
       "      <td>0</td>\n",
       "      <td>3.0</td>\n",
       "      <td>0</td>\n",
       "      <td>246.0</td>\n",
       "      <td>21</td>\n",
       "      <td>27</td>\n",
       "      <td>3.0</td>\n",
       "      <td>3.0</td>\n",
       "      <td>4.0</td>\n",
       "    </tr>\n",
       "    <tr>\n",
       "      <th>24988</th>\n",
       "      <td>aguilri01</td>\n",
       "      <td>1985</td>\n",
       "      <td>1</td>\n",
       "      <td>NYN</td>\n",
       "      <td>NL</td>\n",
       "      <td>10</td>\n",
       "      <td>7</td>\n",
       "      <td>21</td>\n",
       "      <td>19</td>\n",
       "      <td>2</td>\n",
       "      <td>...</td>\n",
       "      <td>2.0</td>\n",
       "      <td>5</td>\n",
       "      <td>2.0</td>\n",
       "      <td>2</td>\n",
       "      <td>507.0</td>\n",
       "      <td>1</td>\n",
       "      <td>49</td>\n",
       "      <td>7.0</td>\n",
       "      <td>4.0</td>\n",
       "      <td>8.0</td>\n",
       "    </tr>\n",
       "    <tr>\n",
       "      <th>...</th>\n",
       "      <td>...</td>\n",
       "      <td>...</td>\n",
       "      <td>...</td>\n",
       "      <td>...</td>\n",
       "      <td>...</td>\n",
       "      <td>...</td>\n",
       "      <td>...</td>\n",
       "      <td>...</td>\n",
       "      <td>...</td>\n",
       "      <td>...</td>\n",
       "      <td>...</td>\n",
       "      <td>...</td>\n",
       "      <td>...</td>\n",
       "      <td>...</td>\n",
       "      <td>...</td>\n",
       "      <td>...</td>\n",
       "      <td>...</td>\n",
       "      <td>...</td>\n",
       "      <td>...</td>\n",
       "      <td>...</td>\n",
       "      <td>...</td>\n",
       "    </tr>\n",
       "    <tr>\n",
       "      <th>47624</th>\n",
       "      <td>zamorda01</td>\n",
       "      <td>2019</td>\n",
       "      <td>1</td>\n",
       "      <td>NYN</td>\n",
       "      <td>NL</td>\n",
       "      <td>0</td>\n",
       "      <td>1</td>\n",
       "      <td>17</td>\n",
       "      <td>0</td>\n",
       "      <td>0</td>\n",
       "      <td>...</td>\n",
       "      <td>1.0</td>\n",
       "      <td>0</td>\n",
       "      <td>1.0</td>\n",
       "      <td>0</td>\n",
       "      <td>41.0</td>\n",
       "      <td>3</td>\n",
       "      <td>5</td>\n",
       "      <td>0.0</td>\n",
       "      <td>1.0</td>\n",
       "      <td>0.0</td>\n",
       "    </tr>\n",
       "    <tr>\n",
       "      <th>47625</th>\n",
       "      <td>zeuchtj01</td>\n",
       "      <td>2019</td>\n",
       "      <td>1</td>\n",
       "      <td>TOR</td>\n",
       "      <td>AL</td>\n",
       "      <td>1</td>\n",
       "      <td>2</td>\n",
       "      <td>5</td>\n",
       "      <td>3</td>\n",
       "      <td>0</td>\n",
       "      <td>...</td>\n",
       "      <td>0.0</td>\n",
       "      <td>2</td>\n",
       "      <td>0.0</td>\n",
       "      <td>0</td>\n",
       "      <td>99.0</td>\n",
       "      <td>0</td>\n",
       "      <td>13</td>\n",
       "      <td>0.0</td>\n",
       "      <td>0.0</td>\n",
       "      <td>1.0</td>\n",
       "    </tr>\n",
       "    <tr>\n",
       "      <th>47626</th>\n",
       "      <td>zimmejo02</td>\n",
       "      <td>2019</td>\n",
       "      <td>1</td>\n",
       "      <td>DET</td>\n",
       "      <td>AL</td>\n",
       "      <td>1</td>\n",
       "      <td>13</td>\n",
       "      <td>23</td>\n",
       "      <td>23</td>\n",
       "      <td>0</td>\n",
       "      <td>...</td>\n",
       "      <td>2.0</td>\n",
       "      <td>3</td>\n",
       "      <td>6.0</td>\n",
       "      <td>0</td>\n",
       "      <td>504.0</td>\n",
       "      <td>0</td>\n",
       "      <td>89</td>\n",
       "      <td>3.0</td>\n",
       "      <td>4.0</td>\n",
       "      <td>5.0</td>\n",
       "    </tr>\n",
       "    <tr>\n",
       "      <th>47627</th>\n",
       "      <td>zimmeky01</td>\n",
       "      <td>2019</td>\n",
       "      <td>1</td>\n",
       "      <td>KCA</td>\n",
       "      <td>AL</td>\n",
       "      <td>0</td>\n",
       "      <td>1</td>\n",
       "      <td>15</td>\n",
       "      <td>0</td>\n",
       "      <td>0</td>\n",
       "      <td>...</td>\n",
       "      <td>0.0</td>\n",
       "      <td>2</td>\n",
       "      <td>0.0</td>\n",
       "      <td>0</td>\n",
       "      <td>102.0</td>\n",
       "      <td>3</td>\n",
       "      <td>22</td>\n",
       "      <td>0.0</td>\n",
       "      <td>0.0</td>\n",
       "      <td>1.0</td>\n",
       "    </tr>\n",
       "    <tr>\n",
       "      <th>47628</th>\n",
       "      <td>zobribe01</td>\n",
       "      <td>2019</td>\n",
       "      <td>1</td>\n",
       "      <td>CHN</td>\n",
       "      <td>NL</td>\n",
       "      <td>0</td>\n",
       "      <td>0</td>\n",
       "      <td>1</td>\n",
       "      <td>0</td>\n",
       "      <td>0</td>\n",
       "      <td>...</td>\n",
       "      <td>0.0</td>\n",
       "      <td>0</td>\n",
       "      <td>0.0</td>\n",
       "      <td>0</td>\n",
       "      <td>5.0</td>\n",
       "      <td>1</td>\n",
       "      <td>0</td>\n",
       "      <td>0.0</td>\n",
       "      <td>0.0</td>\n",
       "      <td>0.0</td>\n",
       "    </tr>\n",
       "  </tbody>\n",
       "</table>\n",
       "<p>22153 rows × 30 columns</p>\n",
       "</div>"
      ],
      "text/plain": [
       "        playerID  yearID  stint teamID lgID   W   L   G  GS  CG  ...  IBB  WP  \\\n",
       "24984   aasedo01    1985      1    BAL   AL  10   6  54   0   0  ...  7.0   0   \n",
       "24985  abregjo01    1985      1    CHN   NL   1   1   6   5   0  ...  1.0   0   \n",
       "24986  ackerji01    1985      1    TOR   AL   7   2  61   0   0  ...  1.0   2   \n",
       "24987  agostju01    1985      1    CHA   AL   4   3  54   0   0  ...  1.0   0   \n",
       "24988  aguilri01    1985      1    NYN   NL  10   7  21  19   2  ...  2.0   5   \n",
       "...          ...     ...    ...    ...  ...  ..  ..  ..  ..  ..  ...  ...  ..   \n",
       "47624  zamorda01    2019      1    NYN   NL   0   1  17   0   0  ...  1.0   0   \n",
       "47625  zeuchtj01    2019      1    TOR   AL   1   2   5   3   0  ...  0.0   2   \n",
       "47626  zimmejo02    2019      1    DET   AL   1  13  23  23   0  ...  2.0   3   \n",
       "47627  zimmeky01    2019      1    KCA   AL   0   1  15   0   0  ...  0.0   2   \n",
       "47628  zobribe01    2019      1    CHN   NL   0   0   1   0   0  ...  0.0   0   \n",
       "\n",
       "       HBP  BK    BFP  GF   R   SH   SF  GIDP  \n",
       "24984  1.0   1  366.0  43  44  5.0  3.0  13.0  \n",
       "24985  0.0   0  109.0   0  18  5.0  1.0   3.0  \n",
       "24986  3.0   0  370.0  26  35  1.0  2.0  16.0  \n",
       "24987  3.0   0  246.0  21  27  3.0  3.0   4.0  \n",
       "24988  2.0   2  507.0   1  49  7.0  4.0   8.0  \n",
       "...    ...  ..    ...  ..  ..  ...  ...   ...  \n",
       "47624  1.0   0   41.0   3   5  0.0  1.0   0.0  \n",
       "47625  0.0   0   99.0   0  13  0.0  0.0   1.0  \n",
       "47626  6.0   0  504.0   0  89  3.0  4.0   5.0  \n",
       "47627  0.0   0  102.0   3  22  0.0  0.0   1.0  \n",
       "47628  0.0   0    5.0   1   0  0.0  0.0   0.0  \n",
       "\n",
       "[22153 rows x 30 columns]"
      ]
     },
     "execution_count": 3,
     "metadata": {},
     "output_type": "execute_result"
    }
   ],
   "source": [
    "pitching = pd.read_csv('data/core/Pitching.csv')\n",
    "pitching = pitching[pitching['yearID'] > 1984]\n",
    "pitching = pitching[pitching['yearID'] < 2020]\n",
    "pitching = pitching[pitching['yearID'] != 1994]\n",
    "pitching"
   ]
  },
  {
   "cell_type": "markdown",
   "metadata": {},
   "source": [
    "# MLB All-Star Data from 1985-2019, excluding 1994, a walk-out year "
   ]
  },
  {
   "cell_type": "code",
   "execution_count": 4,
   "metadata": {},
   "outputs": [
    {
     "data": {
      "text/html": [
       "<div>\n",
       "<style scoped>\n",
       "    .dataframe tbody tr th:only-of-type {\n",
       "        vertical-align: middle;\n",
       "    }\n",
       "\n",
       "    .dataframe tbody tr th {\n",
       "        vertical-align: top;\n",
       "    }\n",
       "\n",
       "    .dataframe thead th {\n",
       "        text-align: right;\n",
       "    }\n",
       "</style>\n",
       "<table border=\"1\" class=\"dataframe\">\n",
       "  <thead>\n",
       "    <tr style=\"text-align: right;\">\n",
       "      <th></th>\n",
       "      <th>playerID</th>\n",
       "      <th>yearID</th>\n",
       "      <th>gameNum</th>\n",
       "      <th>gameID</th>\n",
       "      <th>teamID</th>\n",
       "      <th>lgID</th>\n",
       "      <th>GP</th>\n",
       "      <th>startingPos</th>\n",
       "    </tr>\n",
       "  </thead>\n",
       "  <tbody>\n",
       "    <tr>\n",
       "      <th>3035</th>\n",
       "      <td>morrija02</td>\n",
       "      <td>1985.0</td>\n",
       "      <td>0.0</td>\n",
       "      <td>ALS198507160</td>\n",
       "      <td>DET</td>\n",
       "      <td>AL</td>\n",
       "      <td>1</td>\n",
       "      <td>1.0</td>\n",
       "    </tr>\n",
       "    <tr>\n",
       "      <th>3036</th>\n",
       "      <td>fiskca01</td>\n",
       "      <td>1985.0</td>\n",
       "      <td>0.0</td>\n",
       "      <td>ALS198507160</td>\n",
       "      <td>CHA</td>\n",
       "      <td>AL</td>\n",
       "      <td>1</td>\n",
       "      <td>2.0</td>\n",
       "    </tr>\n",
       "    <tr>\n",
       "      <th>3037</th>\n",
       "      <td>murraed02</td>\n",
       "      <td>1985.0</td>\n",
       "      <td>0.0</td>\n",
       "      <td>ALS198507160</td>\n",
       "      <td>BAL</td>\n",
       "      <td>AL</td>\n",
       "      <td>1</td>\n",
       "      <td>3.0</td>\n",
       "    </tr>\n",
       "    <tr>\n",
       "      <th>3038</th>\n",
       "      <td>whitalo01</td>\n",
       "      <td>1985.0</td>\n",
       "      <td>0.0</td>\n",
       "      <td>ALS198507160</td>\n",
       "      <td>DET</td>\n",
       "      <td>AL</td>\n",
       "      <td>1</td>\n",
       "      <td>4.0</td>\n",
       "    </tr>\n",
       "    <tr>\n",
       "      <th>3039</th>\n",
       "      <td>brettge01</td>\n",
       "      <td>1985.0</td>\n",
       "      <td>0.0</td>\n",
       "      <td>ALS198507160</td>\n",
       "      <td>KCA</td>\n",
       "      <td>AL</td>\n",
       "      <td>1</td>\n",
       "      <td>5.0</td>\n",
       "    </tr>\n",
       "    <tr>\n",
       "      <th>...</th>\n",
       "      <td>...</td>\n",
       "      <td>...</td>\n",
       "      <td>...</td>\n",
       "      <td>...</td>\n",
       "      <td>...</td>\n",
       "      <td>...</td>\n",
       "      <td>...</td>\n",
       "      <td>...</td>\n",
       "    </tr>\n",
       "    <tr>\n",
       "      <th>5369</th>\n",
       "      <td>smithwi04</td>\n",
       "      <td>2019.0</td>\n",
       "      <td>0.0</td>\n",
       "      <td>ALS201907090</td>\n",
       "      <td>SFN</td>\n",
       "      <td>NL</td>\n",
       "      <td>1</td>\n",
       "      <td>NaN</td>\n",
       "    </tr>\n",
       "    <tr>\n",
       "      <th>5370</th>\n",
       "      <td>sorokmi01</td>\n",
       "      <td>2019.0</td>\n",
       "      <td>0.0</td>\n",
       "      <td>ALS201907090</td>\n",
       "      <td>ATL</td>\n",
       "      <td>NL</td>\n",
       "      <td>1</td>\n",
       "      <td>NaN</td>\n",
       "    </tr>\n",
       "    <tr>\n",
       "      <th>5371</th>\n",
       "      <td>storytr01</td>\n",
       "      <td>2019.0</td>\n",
       "      <td>0.0</td>\n",
       "      <td>ALS201907090</td>\n",
       "      <td>COL</td>\n",
       "      <td>NL</td>\n",
       "      <td>1</td>\n",
       "      <td>NaN</td>\n",
       "    </tr>\n",
       "    <tr>\n",
       "      <th>5372</th>\n",
       "      <td>woodrbr01</td>\n",
       "      <td>2019.0</td>\n",
       "      <td>0.0</td>\n",
       "      <td>ALS201907090</td>\n",
       "      <td>MIL</td>\n",
       "      <td>NL</td>\n",
       "      <td>1</td>\n",
       "      <td>NaN</td>\n",
       "    </tr>\n",
       "    <tr>\n",
       "      <th>5373</th>\n",
       "      <td>yateski01</td>\n",
       "      <td>2019.0</td>\n",
       "      <td>0.0</td>\n",
       "      <td>ALS201907090</td>\n",
       "      <td>SDN</td>\n",
       "      <td>NL</td>\n",
       "      <td>0</td>\n",
       "      <td>NaN</td>\n",
       "    </tr>\n",
       "  </tbody>\n",
       "</table>\n",
       "<p>2280 rows × 8 columns</p>\n",
       "</div>"
      ],
      "text/plain": [
       "       playerID  yearID  gameNum        gameID teamID lgID  GP  startingPos\n",
       "3035  morrija02  1985.0      0.0  ALS198507160    DET   AL   1          1.0\n",
       "3036   fiskca01  1985.0      0.0  ALS198507160    CHA   AL   1          2.0\n",
       "3037  murraed02  1985.0      0.0  ALS198507160    BAL   AL   1          3.0\n",
       "3038  whitalo01  1985.0      0.0  ALS198507160    DET   AL   1          4.0\n",
       "3039  brettge01  1985.0      0.0  ALS198507160    KCA   AL   1          5.0\n",
       "...         ...     ...      ...           ...    ...  ...  ..          ...\n",
       "5369  smithwi04  2019.0      0.0  ALS201907090    SFN   NL   1          NaN\n",
       "5370  sorokmi01  2019.0      0.0  ALS201907090    ATL   NL   1          NaN\n",
       "5371  storytr01  2019.0      0.0  ALS201907090    COL   NL   1          NaN\n",
       "5372  woodrbr01  2019.0      0.0  ALS201907090    MIL   NL   1          NaN\n",
       "5373  yateski01  2019.0      0.0  ALS201907090    SDN   NL   0          NaN\n",
       "\n",
       "[2280 rows x 8 columns]"
      ]
     },
     "execution_count": 4,
     "metadata": {},
     "output_type": "execute_result"
    }
   ],
   "source": [
    "all_star_full = pd.read_csv('data/core/AllstarFull.csv')\n",
    "all_star_full = all_star_full[all_star_full['yearID'] > 1984]\n",
    "all_star_full = all_star_full[all_star_full['yearID'] < 2020]\n",
    "all_star_full = all_star_full[all_star_full['yearID'] != 1994]\n",
    "all_star_full"
   ]
  },
  {
   "cell_type": "markdown",
   "metadata": {},
   "source": [
    "### Aggregating all-star data to pitching data"
   ]
  },
  {
   "cell_type": "code",
   "execution_count": 5,
   "metadata": {},
   "outputs": [],
   "source": [
    "is_all_star = list()\n",
    "for i in range(len(pitching)):\n",
    "    pitcher = pitching.iloc[i, :]\n",
    "    pitcher_name = pitcher['playerID']\n",
    "    year = pitcher['yearID']\n",
    "    \n",
    "    all_star = all_star_full[all_star_full['yearID'] == year]\n",
    "    all_star = all_star[all_star['playerID'] == pitcher_name]\n",
    "    if(len(all_star) > 0):\n",
    "        is_all_star.append(True)\n",
    "    else:\n",
    "        is_all_star.append(False)\n",
    "#is_all_star"
   ]
  },
  {
   "cell_type": "code",
   "execution_count": 6,
   "metadata": {},
   "outputs": [
    {
     "data": {
      "text/html": [
       "<div>\n",
       "<style scoped>\n",
       "    .dataframe tbody tr th:only-of-type {\n",
       "        vertical-align: middle;\n",
       "    }\n",
       "\n",
       "    .dataframe tbody tr th {\n",
       "        vertical-align: top;\n",
       "    }\n",
       "\n",
       "    .dataframe thead th {\n",
       "        text-align: right;\n",
       "    }\n",
       "</style>\n",
       "<table border=\"1\" class=\"dataframe\">\n",
       "  <thead>\n",
       "    <tr style=\"text-align: right;\">\n",
       "      <th></th>\n",
       "      <th>playerID</th>\n",
       "      <th>yearID</th>\n",
       "      <th>stint</th>\n",
       "      <th>teamID</th>\n",
       "      <th>lgID</th>\n",
       "      <th>W</th>\n",
       "      <th>L</th>\n",
       "      <th>G</th>\n",
       "      <th>GS</th>\n",
       "      <th>CG</th>\n",
       "      <th>...</th>\n",
       "      <th>WP</th>\n",
       "      <th>HBP</th>\n",
       "      <th>BK</th>\n",
       "      <th>BFP</th>\n",
       "      <th>GF</th>\n",
       "      <th>R</th>\n",
       "      <th>SH</th>\n",
       "      <th>SF</th>\n",
       "      <th>GIDP</th>\n",
       "      <th>is_all_star</th>\n",
       "    </tr>\n",
       "  </thead>\n",
       "  <tbody>\n",
       "    <tr>\n",
       "      <th>24984</th>\n",
       "      <td>aasedo01</td>\n",
       "      <td>1985</td>\n",
       "      <td>1</td>\n",
       "      <td>BAL</td>\n",
       "      <td>AL</td>\n",
       "      <td>10</td>\n",
       "      <td>6</td>\n",
       "      <td>54</td>\n",
       "      <td>0</td>\n",
       "      <td>0</td>\n",
       "      <td>...</td>\n",
       "      <td>0</td>\n",
       "      <td>1.0</td>\n",
       "      <td>1</td>\n",
       "      <td>366.0</td>\n",
       "      <td>43</td>\n",
       "      <td>44</td>\n",
       "      <td>5.0</td>\n",
       "      <td>3.0</td>\n",
       "      <td>13.0</td>\n",
       "      <td>False</td>\n",
       "    </tr>\n",
       "    <tr>\n",
       "      <th>24985</th>\n",
       "      <td>abregjo01</td>\n",
       "      <td>1985</td>\n",
       "      <td>1</td>\n",
       "      <td>CHN</td>\n",
       "      <td>NL</td>\n",
       "      <td>1</td>\n",
       "      <td>1</td>\n",
       "      <td>6</td>\n",
       "      <td>5</td>\n",
       "      <td>0</td>\n",
       "      <td>...</td>\n",
       "      <td>0</td>\n",
       "      <td>0.0</td>\n",
       "      <td>0</td>\n",
       "      <td>109.0</td>\n",
       "      <td>0</td>\n",
       "      <td>18</td>\n",
       "      <td>5.0</td>\n",
       "      <td>1.0</td>\n",
       "      <td>3.0</td>\n",
       "      <td>False</td>\n",
       "    </tr>\n",
       "    <tr>\n",
       "      <th>24986</th>\n",
       "      <td>ackerji01</td>\n",
       "      <td>1985</td>\n",
       "      <td>1</td>\n",
       "      <td>TOR</td>\n",
       "      <td>AL</td>\n",
       "      <td>7</td>\n",
       "      <td>2</td>\n",
       "      <td>61</td>\n",
       "      <td>0</td>\n",
       "      <td>0</td>\n",
       "      <td>...</td>\n",
       "      <td>2</td>\n",
       "      <td>3.0</td>\n",
       "      <td>0</td>\n",
       "      <td>370.0</td>\n",
       "      <td>26</td>\n",
       "      <td>35</td>\n",
       "      <td>1.0</td>\n",
       "      <td>2.0</td>\n",
       "      <td>16.0</td>\n",
       "      <td>False</td>\n",
       "    </tr>\n",
       "    <tr>\n",
       "      <th>24987</th>\n",
       "      <td>agostju01</td>\n",
       "      <td>1985</td>\n",
       "      <td>1</td>\n",
       "      <td>CHA</td>\n",
       "      <td>AL</td>\n",
       "      <td>4</td>\n",
       "      <td>3</td>\n",
       "      <td>54</td>\n",
       "      <td>0</td>\n",
       "      <td>0</td>\n",
       "      <td>...</td>\n",
       "      <td>0</td>\n",
       "      <td>3.0</td>\n",
       "      <td>0</td>\n",
       "      <td>246.0</td>\n",
       "      <td>21</td>\n",
       "      <td>27</td>\n",
       "      <td>3.0</td>\n",
       "      <td>3.0</td>\n",
       "      <td>4.0</td>\n",
       "      <td>False</td>\n",
       "    </tr>\n",
       "    <tr>\n",
       "      <th>24988</th>\n",
       "      <td>aguilri01</td>\n",
       "      <td>1985</td>\n",
       "      <td>1</td>\n",
       "      <td>NYN</td>\n",
       "      <td>NL</td>\n",
       "      <td>10</td>\n",
       "      <td>7</td>\n",
       "      <td>21</td>\n",
       "      <td>19</td>\n",
       "      <td>2</td>\n",
       "      <td>...</td>\n",
       "      <td>5</td>\n",
       "      <td>2.0</td>\n",
       "      <td>2</td>\n",
       "      <td>507.0</td>\n",
       "      <td>1</td>\n",
       "      <td>49</td>\n",
       "      <td>7.0</td>\n",
       "      <td>4.0</td>\n",
       "      <td>8.0</td>\n",
       "      <td>False</td>\n",
       "    </tr>\n",
       "    <tr>\n",
       "      <th>...</th>\n",
       "      <td>...</td>\n",
       "      <td>...</td>\n",
       "      <td>...</td>\n",
       "      <td>...</td>\n",
       "      <td>...</td>\n",
       "      <td>...</td>\n",
       "      <td>...</td>\n",
       "      <td>...</td>\n",
       "      <td>...</td>\n",
       "      <td>...</td>\n",
       "      <td>...</td>\n",
       "      <td>...</td>\n",
       "      <td>...</td>\n",
       "      <td>...</td>\n",
       "      <td>...</td>\n",
       "      <td>...</td>\n",
       "      <td>...</td>\n",
       "      <td>...</td>\n",
       "      <td>...</td>\n",
       "      <td>...</td>\n",
       "      <td>...</td>\n",
       "    </tr>\n",
       "    <tr>\n",
       "      <th>47624</th>\n",
       "      <td>zamorda01</td>\n",
       "      <td>2019</td>\n",
       "      <td>1</td>\n",
       "      <td>NYN</td>\n",
       "      <td>NL</td>\n",
       "      <td>0</td>\n",
       "      <td>1</td>\n",
       "      <td>17</td>\n",
       "      <td>0</td>\n",
       "      <td>0</td>\n",
       "      <td>...</td>\n",
       "      <td>0</td>\n",
       "      <td>1.0</td>\n",
       "      <td>0</td>\n",
       "      <td>41.0</td>\n",
       "      <td>3</td>\n",
       "      <td>5</td>\n",
       "      <td>0.0</td>\n",
       "      <td>1.0</td>\n",
       "      <td>0.0</td>\n",
       "      <td>False</td>\n",
       "    </tr>\n",
       "    <tr>\n",
       "      <th>47625</th>\n",
       "      <td>zeuchtj01</td>\n",
       "      <td>2019</td>\n",
       "      <td>1</td>\n",
       "      <td>TOR</td>\n",
       "      <td>AL</td>\n",
       "      <td>1</td>\n",
       "      <td>2</td>\n",
       "      <td>5</td>\n",
       "      <td>3</td>\n",
       "      <td>0</td>\n",
       "      <td>...</td>\n",
       "      <td>2</td>\n",
       "      <td>0.0</td>\n",
       "      <td>0</td>\n",
       "      <td>99.0</td>\n",
       "      <td>0</td>\n",
       "      <td>13</td>\n",
       "      <td>0.0</td>\n",
       "      <td>0.0</td>\n",
       "      <td>1.0</td>\n",
       "      <td>False</td>\n",
       "    </tr>\n",
       "    <tr>\n",
       "      <th>47626</th>\n",
       "      <td>zimmejo02</td>\n",
       "      <td>2019</td>\n",
       "      <td>1</td>\n",
       "      <td>DET</td>\n",
       "      <td>AL</td>\n",
       "      <td>1</td>\n",
       "      <td>13</td>\n",
       "      <td>23</td>\n",
       "      <td>23</td>\n",
       "      <td>0</td>\n",
       "      <td>...</td>\n",
       "      <td>3</td>\n",
       "      <td>6.0</td>\n",
       "      <td>0</td>\n",
       "      <td>504.0</td>\n",
       "      <td>0</td>\n",
       "      <td>89</td>\n",
       "      <td>3.0</td>\n",
       "      <td>4.0</td>\n",
       "      <td>5.0</td>\n",
       "      <td>False</td>\n",
       "    </tr>\n",
       "    <tr>\n",
       "      <th>47627</th>\n",
       "      <td>zimmeky01</td>\n",
       "      <td>2019</td>\n",
       "      <td>1</td>\n",
       "      <td>KCA</td>\n",
       "      <td>AL</td>\n",
       "      <td>0</td>\n",
       "      <td>1</td>\n",
       "      <td>15</td>\n",
       "      <td>0</td>\n",
       "      <td>0</td>\n",
       "      <td>...</td>\n",
       "      <td>2</td>\n",
       "      <td>0.0</td>\n",
       "      <td>0</td>\n",
       "      <td>102.0</td>\n",
       "      <td>3</td>\n",
       "      <td>22</td>\n",
       "      <td>0.0</td>\n",
       "      <td>0.0</td>\n",
       "      <td>1.0</td>\n",
       "      <td>False</td>\n",
       "    </tr>\n",
       "    <tr>\n",
       "      <th>47628</th>\n",
       "      <td>zobribe01</td>\n",
       "      <td>2019</td>\n",
       "      <td>1</td>\n",
       "      <td>CHN</td>\n",
       "      <td>NL</td>\n",
       "      <td>0</td>\n",
       "      <td>0</td>\n",
       "      <td>1</td>\n",
       "      <td>0</td>\n",
       "      <td>0</td>\n",
       "      <td>...</td>\n",
       "      <td>0</td>\n",
       "      <td>0.0</td>\n",
       "      <td>0</td>\n",
       "      <td>5.0</td>\n",
       "      <td>1</td>\n",
       "      <td>0</td>\n",
       "      <td>0.0</td>\n",
       "      <td>0.0</td>\n",
       "      <td>0.0</td>\n",
       "      <td>False</td>\n",
       "    </tr>\n",
       "  </tbody>\n",
       "</table>\n",
       "<p>22153 rows × 31 columns</p>\n",
       "</div>"
      ],
      "text/plain": [
       "        playerID  yearID  stint teamID lgID   W   L   G  GS  CG  ...  WP  HBP  \\\n",
       "24984   aasedo01    1985      1    BAL   AL  10   6  54   0   0  ...   0  1.0   \n",
       "24985  abregjo01    1985      1    CHN   NL   1   1   6   5   0  ...   0  0.0   \n",
       "24986  ackerji01    1985      1    TOR   AL   7   2  61   0   0  ...   2  3.0   \n",
       "24987  agostju01    1985      1    CHA   AL   4   3  54   0   0  ...   0  3.0   \n",
       "24988  aguilri01    1985      1    NYN   NL  10   7  21  19   2  ...   5  2.0   \n",
       "...          ...     ...    ...    ...  ...  ..  ..  ..  ..  ..  ...  ..  ...   \n",
       "47624  zamorda01    2019      1    NYN   NL   0   1  17   0   0  ...   0  1.0   \n",
       "47625  zeuchtj01    2019      1    TOR   AL   1   2   5   3   0  ...   2  0.0   \n",
       "47626  zimmejo02    2019      1    DET   AL   1  13  23  23   0  ...   3  6.0   \n",
       "47627  zimmeky01    2019      1    KCA   AL   0   1  15   0   0  ...   2  0.0   \n",
       "47628  zobribe01    2019      1    CHN   NL   0   0   1   0   0  ...   0  0.0   \n",
       "\n",
       "       BK    BFP  GF   R   SH   SF  GIDP  is_all_star  \n",
       "24984   1  366.0  43  44  5.0  3.0  13.0        False  \n",
       "24985   0  109.0   0  18  5.0  1.0   3.0        False  \n",
       "24986   0  370.0  26  35  1.0  2.0  16.0        False  \n",
       "24987   0  246.0  21  27  3.0  3.0   4.0        False  \n",
       "24988   2  507.0   1  49  7.0  4.0   8.0        False  \n",
       "...    ..    ...  ..  ..  ...  ...   ...          ...  \n",
       "47624   0   41.0   3   5  0.0  1.0   0.0        False  \n",
       "47625   0   99.0   0  13  0.0  0.0   1.0        False  \n",
       "47626   0  504.0   0  89  3.0  4.0   5.0        False  \n",
       "47627   0  102.0   3  22  0.0  0.0   1.0        False  \n",
       "47628   0    5.0   1   0  0.0  0.0   0.0        False  \n",
       "\n",
       "[22153 rows x 31 columns]"
      ]
     },
     "execution_count": 6,
     "metadata": {},
     "output_type": "execute_result"
    }
   ],
   "source": [
    "pitching['is_all_star'] = is_all_star\n",
    "pitching"
   ]
  },
  {
   "cell_type": "markdown",
   "metadata": {},
   "source": [
    "## Splitting data to ensure equal distribution of all-stars and non-all-stars.\n",
    "#### *Useful for maintaining precision*"
   ]
  },
  {
   "cell_type": "code",
   "execution_count": 7,
   "metadata": {},
   "outputs": [
    {
     "data": {
      "text/html": [
       "<div>\n",
       "<style scoped>\n",
       "    .dataframe tbody tr th:only-of-type {\n",
       "        vertical-align: middle;\n",
       "    }\n",
       "\n",
       "    .dataframe tbody tr th {\n",
       "        vertical-align: top;\n",
       "    }\n",
       "\n",
       "    .dataframe thead th {\n",
       "        text-align: right;\n",
       "    }\n",
       "</style>\n",
       "<table border=\"1\" class=\"dataframe\">\n",
       "  <thead>\n",
       "    <tr style=\"text-align: right;\">\n",
       "      <th></th>\n",
       "      <th>playerID</th>\n",
       "      <th>yearID</th>\n",
       "      <th>stint</th>\n",
       "      <th>teamID</th>\n",
       "      <th>lgID</th>\n",
       "      <th>W</th>\n",
       "      <th>L</th>\n",
       "      <th>G</th>\n",
       "      <th>GS</th>\n",
       "      <th>CG</th>\n",
       "      <th>...</th>\n",
       "      <th>WP</th>\n",
       "      <th>HBP</th>\n",
       "      <th>BK</th>\n",
       "      <th>BFP</th>\n",
       "      <th>GF</th>\n",
       "      <th>R</th>\n",
       "      <th>SH</th>\n",
       "      <th>SF</th>\n",
       "      <th>GIDP</th>\n",
       "      <th>is_all_star</th>\n",
       "    </tr>\n",
       "  </thead>\n",
       "  <tbody>\n",
       "    <tr>\n",
       "      <th>24993</th>\n",
       "      <td>andujjo01</td>\n",
       "      <td>1985</td>\n",
       "      <td>1</td>\n",
       "      <td>SLN</td>\n",
       "      <td>NL</td>\n",
       "      <td>21</td>\n",
       "      <td>12</td>\n",
       "      <td>38</td>\n",
       "      <td>38</td>\n",
       "      <td>10</td>\n",
       "      <td>...</td>\n",
       "      <td>2</td>\n",
       "      <td>11.0</td>\n",
       "      <td>0</td>\n",
       "      <td>1127.0</td>\n",
       "      <td>0</td>\n",
       "      <td>113</td>\n",
       "      <td>11.0</td>\n",
       "      <td>4.0</td>\n",
       "      <td>32.0</td>\n",
       "      <td>True</td>\n",
       "    </tr>\n",
       "    <tr>\n",
       "      <th>25016</th>\n",
       "      <td>blylebe01</td>\n",
       "      <td>1985</td>\n",
       "      <td>1</td>\n",
       "      <td>CLE</td>\n",
       "      <td>AL</td>\n",
       "      <td>9</td>\n",
       "      <td>11</td>\n",
       "      <td>23</td>\n",
       "      <td>23</td>\n",
       "      <td>15</td>\n",
       "      <td>...</td>\n",
       "      <td>1</td>\n",
       "      <td>7.0</td>\n",
       "      <td>1</td>\n",
       "      <td>743.0</td>\n",
       "      <td>0</td>\n",
       "      <td>76</td>\n",
       "      <td>4.0</td>\n",
       "      <td>4.0</td>\n",
       "      <td>11.0</td>\n",
       "      <td>True</td>\n",
       "    </tr>\n",
       "    <tr>\n",
       "      <th>25017</th>\n",
       "      <td>blylebe01</td>\n",
       "      <td>1985</td>\n",
       "      <td>2</td>\n",
       "      <td>MIN</td>\n",
       "      <td>AL</td>\n",
       "      <td>8</td>\n",
       "      <td>5</td>\n",
       "      <td>14</td>\n",
       "      <td>14</td>\n",
       "      <td>9</td>\n",
       "      <td>...</td>\n",
       "      <td>3</td>\n",
       "      <td>2.0</td>\n",
       "      <td>0</td>\n",
       "      <td>460.0</td>\n",
       "      <td>0</td>\n",
       "      <td>45</td>\n",
       "      <td>1.0</td>\n",
       "      <td>4.0</td>\n",
       "      <td>10.0</td>\n",
       "      <td>True</td>\n",
       "    </tr>\n",
       "    <tr>\n",
       "      <th>25070</th>\n",
       "      <td>darliro01</td>\n",
       "      <td>1985</td>\n",
       "      <td>1</td>\n",
       "      <td>NYN</td>\n",
       "      <td>NL</td>\n",
       "      <td>16</td>\n",
       "      <td>6</td>\n",
       "      <td>36</td>\n",
       "      <td>35</td>\n",
       "      <td>4</td>\n",
       "      <td>...</td>\n",
       "      <td>7</td>\n",
       "      <td>3.0</td>\n",
       "      <td>1</td>\n",
       "      <td>1043.0</td>\n",
       "      <td>1</td>\n",
       "      <td>93</td>\n",
       "      <td>13.0</td>\n",
       "      <td>4.0</td>\n",
       "      <td>23.0</td>\n",
       "      <td>True</td>\n",
       "    </tr>\n",
       "    <tr>\n",
       "      <th>25113</th>\n",
       "      <td>garresc01</td>\n",
       "      <td>1985</td>\n",
       "      <td>1</td>\n",
       "      <td>SFN</td>\n",
       "      <td>NL</td>\n",
       "      <td>9</td>\n",
       "      <td>6</td>\n",
       "      <td>74</td>\n",
       "      <td>0</td>\n",
       "      <td>0</td>\n",
       "      <td>...</td>\n",
       "      <td>7</td>\n",
       "      <td>3.0</td>\n",
       "      <td>1</td>\n",
       "      <td>454.0</td>\n",
       "      <td>44</td>\n",
       "      <td>37</td>\n",
       "      <td>6.0</td>\n",
       "      <td>3.0</td>\n",
       "      <td>6.0</td>\n",
       "      <td>True</td>\n",
       "    </tr>\n",
       "    <tr>\n",
       "      <th>...</th>\n",
       "      <td>...</td>\n",
       "      <td>...</td>\n",
       "      <td>...</td>\n",
       "      <td>...</td>\n",
       "      <td>...</td>\n",
       "      <td>...</td>\n",
       "      <td>...</td>\n",
       "      <td>...</td>\n",
       "      <td>...</td>\n",
       "      <td>...</td>\n",
       "      <td>...</td>\n",
       "      <td>...</td>\n",
       "      <td>...</td>\n",
       "      <td>...</td>\n",
       "      <td>...</td>\n",
       "      <td>...</td>\n",
       "      <td>...</td>\n",
       "      <td>...</td>\n",
       "      <td>...</td>\n",
       "      <td>...</td>\n",
       "      <td>...</td>\n",
       "    </tr>\n",
       "    <tr>\n",
       "      <th>39168</th>\n",
       "      <td>davidda02</td>\n",
       "      <td>2009</td>\n",
       "      <td>1</td>\n",
       "      <td>LAA</td>\n",
       "      <td>AL</td>\n",
       "      <td>0</td>\n",
       "      <td>0</td>\n",
       "      <td>4</td>\n",
       "      <td>0</td>\n",
       "      <td>0</td>\n",
       "      <td>...</td>\n",
       "      <td>0</td>\n",
       "      <td>0.0</td>\n",
       "      <td>0</td>\n",
       "      <td>11.0</td>\n",
       "      <td>1</td>\n",
       "      <td>1</td>\n",
       "      <td>0.0</td>\n",
       "      <td>0.0</td>\n",
       "      <td>0.0</td>\n",
       "      <td>False</td>\n",
       "    </tr>\n",
       "    <tr>\n",
       "      <th>42846</th>\n",
       "      <td>grayso01</td>\n",
       "      <td>2014</td>\n",
       "      <td>1</td>\n",
       "      <td>OAK</td>\n",
       "      <td>AL</td>\n",
       "      <td>14</td>\n",
       "      <td>10</td>\n",
       "      <td>33</td>\n",
       "      <td>33</td>\n",
       "      <td>2</td>\n",
       "      <td>...</td>\n",
       "      <td>15</td>\n",
       "      <td>7.0</td>\n",
       "      <td>0</td>\n",
       "      <td>899.0</td>\n",
       "      <td>0</td>\n",
       "      <td>84</td>\n",
       "      <td>8.0</td>\n",
       "      <td>5.0</td>\n",
       "      <td>21.0</td>\n",
       "      <td>False</td>\n",
       "    </tr>\n",
       "    <tr>\n",
       "      <th>25992</th>\n",
       "      <td>easteja01</td>\n",
       "      <td>1987</td>\n",
       "      <td>1</td>\n",
       "      <td>CLE</td>\n",
       "      <td>AL</td>\n",
       "      <td>1</td>\n",
       "      <td>1</td>\n",
       "      <td>16</td>\n",
       "      <td>0</td>\n",
       "      <td>0</td>\n",
       "      <td>...</td>\n",
       "      <td>5</td>\n",
       "      <td>1.0</td>\n",
       "      <td>0</td>\n",
       "      <td>137.0</td>\n",
       "      <td>1</td>\n",
       "      <td>17</td>\n",
       "      <td>2.0</td>\n",
       "      <td>2.0</td>\n",
       "      <td>1.0</td>\n",
       "      <td>False</td>\n",
       "    </tr>\n",
       "    <tr>\n",
       "      <th>27619</th>\n",
       "      <td>montgje01</td>\n",
       "      <td>1990</td>\n",
       "      <td>1</td>\n",
       "      <td>KCA</td>\n",
       "      <td>AL</td>\n",
       "      <td>6</td>\n",
       "      <td>5</td>\n",
       "      <td>73</td>\n",
       "      <td>0</td>\n",
       "      <td>0</td>\n",
       "      <td>...</td>\n",
       "      <td>3</td>\n",
       "      <td>5.0</td>\n",
       "      <td>0</td>\n",
       "      <td>400.0</td>\n",
       "      <td>59</td>\n",
       "      <td>36</td>\n",
       "      <td>2.0</td>\n",
       "      <td>2.0</td>\n",
       "      <td>2.0</td>\n",
       "      <td>False</td>\n",
       "    </tr>\n",
       "    <tr>\n",
       "      <th>42347</th>\n",
       "      <td>olmosed01</td>\n",
       "      <td>2013</td>\n",
       "      <td>1</td>\n",
       "      <td>MIA</td>\n",
       "      <td>NL</td>\n",
       "      <td>0</td>\n",
       "      <td>1</td>\n",
       "      <td>5</td>\n",
       "      <td>0</td>\n",
       "      <td>0</td>\n",
       "      <td>...</td>\n",
       "      <td>0</td>\n",
       "      <td>0.0</td>\n",
       "      <td>0</td>\n",
       "      <td>24.0</td>\n",
       "      <td>2</td>\n",
       "      <td>9</td>\n",
       "      <td>1.0</td>\n",
       "      <td>0.0</td>\n",
       "      <td>2.0</td>\n",
       "      <td>False</td>\n",
       "    </tr>\n",
       "  </tbody>\n",
       "</table>\n",
       "<p>1744 rows × 31 columns</p>\n",
       "</div>"
      ],
      "text/plain": [
       "        playerID  yearID  stint teamID lgID   W   L   G  GS  CG  ...  WP  \\\n",
       "24993  andujjo01    1985      1    SLN   NL  21  12  38  38  10  ...   2   \n",
       "25016  blylebe01    1985      1    CLE   AL   9  11  23  23  15  ...   1   \n",
       "25017  blylebe01    1985      2    MIN   AL   8   5  14  14   9  ...   3   \n",
       "25070  darliro01    1985      1    NYN   NL  16   6  36  35   4  ...   7   \n",
       "25113  garresc01    1985      1    SFN   NL   9   6  74   0   0  ...   7   \n",
       "...          ...     ...    ...    ...  ...  ..  ..  ..  ..  ..  ...  ..   \n",
       "39168  davidda02    2009      1    LAA   AL   0   0   4   0   0  ...   0   \n",
       "42846   grayso01    2014      1    OAK   AL  14  10  33  33   2  ...  15   \n",
       "25992  easteja01    1987      1    CLE   AL   1   1  16   0   0  ...   5   \n",
       "27619  montgje01    1990      1    KCA   AL   6   5  73   0   0  ...   3   \n",
       "42347  olmosed01    2013      1    MIA   NL   0   1   5   0   0  ...   0   \n",
       "\n",
       "        HBP  BK     BFP  GF    R    SH   SF  GIDP  is_all_star  \n",
       "24993  11.0   0  1127.0   0  113  11.0  4.0  32.0         True  \n",
       "25016   7.0   1   743.0   0   76   4.0  4.0  11.0         True  \n",
       "25017   2.0   0   460.0   0   45   1.0  4.0  10.0         True  \n",
       "25070   3.0   1  1043.0   1   93  13.0  4.0  23.0         True  \n",
       "25113   3.0   1   454.0  44   37   6.0  3.0   6.0         True  \n",
       "...     ...  ..     ...  ..  ...   ...  ...   ...          ...  \n",
       "39168   0.0   0    11.0   1    1   0.0  0.0   0.0        False  \n",
       "42846   7.0   0   899.0   0   84   8.0  5.0  21.0        False  \n",
       "25992   1.0   0   137.0   1   17   2.0  2.0   1.0        False  \n",
       "27619   5.0   0   400.0  59   36   2.0  2.0   2.0        False  \n",
       "42347   0.0   0    24.0   2    9   1.0  0.0   2.0        False  \n",
       "\n",
       "[1744 rows x 31 columns]"
      ]
     },
     "execution_count": 7,
     "metadata": {},
     "output_type": "execute_result"
    }
   ],
   "source": [
    "pitching_all_stars = pitching[pitching['is_all_star'] == True]\n",
    "pitching_not_all_stars_sample = pitching[pitching['is_all_star'] == False].sample(len(pitching_all_stars))\n",
    "pitching = pd.concat([pitching_all_stars, pitching_not_all_stars_sample])\n",
    "pitching"
   ]
  },
  {
   "cell_type": "code",
   "execution_count": 8,
   "metadata": {},
   "outputs": [
    {
     "data": {
      "text/plain": [
       "Index(['playerID', 'yearID', 'stint', 'teamID', 'lgID', 'W', 'L', 'G', 'GS',\n",
       "       'CG', 'SHO', 'SV', 'IPouts', 'H', 'ER', 'HR', 'BB', 'SO', 'BAOpp',\n",
       "       'ERA', 'IBB', 'WP', 'HBP', 'BK', 'BFP', 'GF', 'R', 'SH', 'SF', 'GIDP',\n",
       "       'is_all_star'],\n",
       "      dtype='object')"
      ]
     },
     "execution_count": 8,
     "metadata": {},
     "output_type": "execute_result"
    }
   ],
   "source": [
    "pitching.columns"
   ]
  },
  {
   "cell_type": "markdown",
   "metadata": {},
   "source": [
    "# Column Selection - Relevant Pitching Statistics"
   ]
  },
  {
   "cell_type": "code",
   "execution_count": 9,
   "metadata": {},
   "outputs": [
    {
     "data": {
      "text/html": [
       "<div>\n",
       "<style scoped>\n",
       "    .dataframe tbody tr th:only-of-type {\n",
       "        vertical-align: middle;\n",
       "    }\n",
       "\n",
       "    .dataframe tbody tr th {\n",
       "        vertical-align: top;\n",
       "    }\n",
       "\n",
       "    .dataframe thead th {\n",
       "        text-align: right;\n",
       "    }\n",
       "</style>\n",
       "<table border=\"1\" class=\"dataframe\">\n",
       "  <thead>\n",
       "    <tr style=\"text-align: right;\">\n",
       "      <th></th>\n",
       "      <th>playerID</th>\n",
       "      <th>yearID</th>\n",
       "      <th>teamID</th>\n",
       "      <th>SHO</th>\n",
       "      <th>H</th>\n",
       "      <th>ER</th>\n",
       "      <th>HR</th>\n",
       "      <th>BB</th>\n",
       "      <th>SO</th>\n",
       "      <th>BAOpp</th>\n",
       "      <th>ERA</th>\n",
       "      <th>WP</th>\n",
       "      <th>HBP</th>\n",
       "      <th>R</th>\n",
       "      <th>GIDP</th>\n",
       "      <th>is_all_star</th>\n",
       "    </tr>\n",
       "  </thead>\n",
       "  <tbody>\n",
       "    <tr>\n",
       "      <th>24993</th>\n",
       "      <td>andujjo01</td>\n",
       "      <td>1985</td>\n",
       "      <td>SLN</td>\n",
       "      <td>2</td>\n",
       "      <td>265</td>\n",
       "      <td>102</td>\n",
       "      <td>15</td>\n",
       "      <td>82</td>\n",
       "      <td>112</td>\n",
       "      <td>0.260</td>\n",
       "      <td>3.40</td>\n",
       "      <td>2</td>\n",
       "      <td>11.0</td>\n",
       "      <td>113</td>\n",
       "      <td>32.0</td>\n",
       "      <td>True</td>\n",
       "    </tr>\n",
       "    <tr>\n",
       "      <th>25016</th>\n",
       "      <td>blylebe01</td>\n",
       "      <td>1985</td>\n",
       "      <td>CLE</td>\n",
       "      <td>4</td>\n",
       "      <td>163</td>\n",
       "      <td>65</td>\n",
       "      <td>14</td>\n",
       "      <td>49</td>\n",
       "      <td>129</td>\n",
       "      <td>0.240</td>\n",
       "      <td>3.26</td>\n",
       "      <td>1</td>\n",
       "      <td>7.0</td>\n",
       "      <td>76</td>\n",
       "      <td>11.0</td>\n",
       "      <td>True</td>\n",
       "    </tr>\n",
       "    <tr>\n",
       "      <th>25017</th>\n",
       "      <td>blylebe01</td>\n",
       "      <td>1985</td>\n",
       "      <td>MIN</td>\n",
       "      <td>1</td>\n",
       "      <td>101</td>\n",
       "      <td>38</td>\n",
       "      <td>9</td>\n",
       "      <td>26</td>\n",
       "      <td>77</td>\n",
       "      <td>0.237</td>\n",
       "      <td>3.00</td>\n",
       "      <td>3</td>\n",
       "      <td>2.0</td>\n",
       "      <td>45</td>\n",
       "      <td>10.0</td>\n",
       "      <td>True</td>\n",
       "    </tr>\n",
       "    <tr>\n",
       "      <th>25070</th>\n",
       "      <td>darliro01</td>\n",
       "      <td>1985</td>\n",
       "      <td>NYN</td>\n",
       "      <td>2</td>\n",
       "      <td>214</td>\n",
       "      <td>80</td>\n",
       "      <td>21</td>\n",
       "      <td>114</td>\n",
       "      <td>167</td>\n",
       "      <td>0.235</td>\n",
       "      <td>2.90</td>\n",
       "      <td>7</td>\n",
       "      <td>3.0</td>\n",
       "      <td>93</td>\n",
       "      <td>23.0</td>\n",
       "      <td>True</td>\n",
       "    </tr>\n",
       "    <tr>\n",
       "      <th>25113</th>\n",
       "      <td>garresc01</td>\n",
       "      <td>1985</td>\n",
       "      <td>SFN</td>\n",
       "      <td>0</td>\n",
       "      <td>76</td>\n",
       "      <td>27</td>\n",
       "      <td>2</td>\n",
       "      <td>58</td>\n",
       "      <td>106</td>\n",
       "      <td>0.198</td>\n",
       "      <td>2.30</td>\n",
       "      <td>7</td>\n",
       "      <td>3.0</td>\n",
       "      <td>37</td>\n",
       "      <td>6.0</td>\n",
       "      <td>True</td>\n",
       "    </tr>\n",
       "    <tr>\n",
       "      <th>...</th>\n",
       "      <td>...</td>\n",
       "      <td>...</td>\n",
       "      <td>...</td>\n",
       "      <td>...</td>\n",
       "      <td>...</td>\n",
       "      <td>...</td>\n",
       "      <td>...</td>\n",
       "      <td>...</td>\n",
       "      <td>...</td>\n",
       "      <td>...</td>\n",
       "      <td>...</td>\n",
       "      <td>...</td>\n",
       "      <td>...</td>\n",
       "      <td>...</td>\n",
       "      <td>...</td>\n",
       "      <td>...</td>\n",
       "    </tr>\n",
       "    <tr>\n",
       "      <th>39168</th>\n",
       "      <td>davidda02</td>\n",
       "      <td>2009</td>\n",
       "      <td>LAA</td>\n",
       "      <td>0</td>\n",
       "      <td>3</td>\n",
       "      <td>1</td>\n",
       "      <td>0</td>\n",
       "      <td>3</td>\n",
       "      <td>0</td>\n",
       "      <td>0.375</td>\n",
       "      <td>5.40</td>\n",
       "      <td>0</td>\n",
       "      <td>0.0</td>\n",
       "      <td>1</td>\n",
       "      <td>0.0</td>\n",
       "      <td>False</td>\n",
       "    </tr>\n",
       "    <tr>\n",
       "      <th>42846</th>\n",
       "      <td>grayso01</td>\n",
       "      <td>2014</td>\n",
       "      <td>OAK</td>\n",
       "      <td>2</td>\n",
       "      <td>187</td>\n",
       "      <td>75</td>\n",
       "      <td>15</td>\n",
       "      <td>74</td>\n",
       "      <td>183</td>\n",
       "      <td>0.232</td>\n",
       "      <td>3.08</td>\n",
       "      <td>15</td>\n",
       "      <td>7.0</td>\n",
       "      <td>84</td>\n",
       "      <td>21.0</td>\n",
       "      <td>False</td>\n",
       "    </tr>\n",
       "    <tr>\n",
       "      <th>25992</th>\n",
       "      <td>easteja01</td>\n",
       "      <td>1987</td>\n",
       "      <td>CLE</td>\n",
       "      <td>0</td>\n",
       "      <td>26</td>\n",
       "      <td>16</td>\n",
       "      <td>4</td>\n",
       "      <td>13</td>\n",
       "      <td>22</td>\n",
       "      <td>0.218</td>\n",
       "      <td>4.55</td>\n",
       "      <td>5</td>\n",
       "      <td>1.0</td>\n",
       "      <td>17</td>\n",
       "      <td>1.0</td>\n",
       "      <td>False</td>\n",
       "    </tr>\n",
       "    <tr>\n",
       "      <th>27619</th>\n",
       "      <td>montgje01</td>\n",
       "      <td>1990</td>\n",
       "      <td>KCA</td>\n",
       "      <td>0</td>\n",
       "      <td>81</td>\n",
       "      <td>25</td>\n",
       "      <td>6</td>\n",
       "      <td>34</td>\n",
       "      <td>94</td>\n",
       "      <td>0.228</td>\n",
       "      <td>2.39</td>\n",
       "      <td>3</td>\n",
       "      <td>5.0</td>\n",
       "      <td>36</td>\n",
       "      <td>2.0</td>\n",
       "      <td>False</td>\n",
       "    </tr>\n",
       "    <tr>\n",
       "      <th>42347</th>\n",
       "      <td>olmosed01</td>\n",
       "      <td>2013</td>\n",
       "      <td>MIA</td>\n",
       "      <td>0</td>\n",
       "      <td>7</td>\n",
       "      <td>4</td>\n",
       "      <td>2</td>\n",
       "      <td>3</td>\n",
       "      <td>2</td>\n",
       "      <td>0.350</td>\n",
       "      <td>7.20</td>\n",
       "      <td>0</td>\n",
       "      <td>0.0</td>\n",
       "      <td>9</td>\n",
       "      <td>2.0</td>\n",
       "      <td>False</td>\n",
       "    </tr>\n",
       "  </tbody>\n",
       "</table>\n",
       "<p>1744 rows × 16 columns</p>\n",
       "</div>"
      ],
      "text/plain": [
       "        playerID  yearID teamID  SHO    H   ER  HR   BB   SO  BAOpp   ERA  WP  \\\n",
       "24993  andujjo01    1985    SLN    2  265  102  15   82  112  0.260  3.40   2   \n",
       "25016  blylebe01    1985    CLE    4  163   65  14   49  129  0.240  3.26   1   \n",
       "25017  blylebe01    1985    MIN    1  101   38   9   26   77  0.237  3.00   3   \n",
       "25070  darliro01    1985    NYN    2  214   80  21  114  167  0.235  2.90   7   \n",
       "25113  garresc01    1985    SFN    0   76   27   2   58  106  0.198  2.30   7   \n",
       "...          ...     ...    ...  ...  ...  ...  ..  ...  ...    ...   ...  ..   \n",
       "39168  davidda02    2009    LAA    0    3    1   0    3    0  0.375  5.40   0   \n",
       "42846   grayso01    2014    OAK    2  187   75  15   74  183  0.232  3.08  15   \n",
       "25992  easteja01    1987    CLE    0   26   16   4   13   22  0.218  4.55   5   \n",
       "27619  montgje01    1990    KCA    0   81   25   6   34   94  0.228  2.39   3   \n",
       "42347  olmosed01    2013    MIA    0    7    4   2    3    2  0.350  7.20   0   \n",
       "\n",
       "        HBP    R  GIDP  is_all_star  \n",
       "24993  11.0  113  32.0         True  \n",
       "25016   7.0   76  11.0         True  \n",
       "25017   2.0   45  10.0         True  \n",
       "25070   3.0   93  23.0         True  \n",
       "25113   3.0   37   6.0         True  \n",
       "...     ...  ...   ...          ...  \n",
       "39168   0.0    1   0.0        False  \n",
       "42846   7.0   84  21.0        False  \n",
       "25992   1.0   17   1.0        False  \n",
       "27619   5.0   36   2.0        False  \n",
       "42347   0.0    9   2.0        False  \n",
       "\n",
       "[1744 rows x 16 columns]"
      ]
     },
     "execution_count": 9,
     "metadata": {},
     "output_type": "execute_result"
    }
   ],
   "source": [
    "pitching = pitching.drop(columns = ['stint', 'lgID', 'W', 'L', 'G', 'GS', 'CG', 'SV', 'IPouts', 'IBB', 'BK', 'BFP', 'GF', 'SH', 'SF'])\n",
    "pitching"
   ]
  },
  {
   "cell_type": "code",
   "execution_count": 10,
   "metadata": {},
   "outputs": [],
   "source": [
    "pitching = pitching.dropna()\n",
    "pitching.loc[:,\"is_all_star\"] = pitching[\"is_all_star\"].astype(int)\n",
    "#pitching['is_all_star']"
   ]
  },
  {
   "cell_type": "markdown",
   "metadata": {},
   "source": [
    "# EDA: Boxplot Visualization for All-star vs. non All-star"
   ]
  },
  {
   "cell_type": "code",
   "execution_count": 11,
   "metadata": {},
   "outputs": [
    {
     "data": {
      "text/plain": [
       "BAOpp         AxesSubplot(0.1,0.15;0.056338x0.75)\n",
       "BB       AxesSubplot(0.167606,0.15;0.056338x0.75)\n",
       "ER       AxesSubplot(0.235211,0.15;0.056338x0.75)\n",
       "ERA      AxesSubplot(0.302817,0.15;0.056338x0.75)\n",
       "GIDP     AxesSubplot(0.370423,0.15;0.056338x0.75)\n",
       "H        AxesSubplot(0.438028,0.15;0.056338x0.75)\n",
       "HBP      AxesSubplot(0.505634,0.15;0.056338x0.75)\n",
       "HR       AxesSubplot(0.573239,0.15;0.056338x0.75)\n",
       "R        AxesSubplot(0.640845,0.15;0.056338x0.75)\n",
       "SHO      AxesSubplot(0.708451,0.15;0.056338x0.75)\n",
       "SO       AxesSubplot(0.776056,0.15;0.056338x0.75)\n",
       "WP       AxesSubplot(0.843662,0.15;0.056338x0.75)\n",
       "dtype: object"
      ]
     },
     "execution_count": 11,
     "metadata": {},
     "output_type": "execute_result"
    },
    {
     "data": {
      "image/png": "[encoded data removed]",
      "text/plain": [
       "<Figure size 1440x576 with 12 Axes>"
      ]
     },
     "metadata": {
      "needs_background": "light"
     },
     "output_type": "display_data"
    }
   ],
   "source": [
    "pitching_boxplots = pitching.copy()\n",
    "\n",
    "pitching_boxplots_is_all_star = pitching_boxplots['is_all_star']\n",
    "\n",
    "pitching_boxplots.drop(columns = ['is_all_star', 'yearID', 'playerID', 'teamID'], inplace = True)\n",
    "\n",
    "pitching_boxplots = (pitching_boxplots - pitching_boxplots.mean()) / pitching_boxplots.std()\n",
    "\n",
    "pitching_boxplots['is_all_star'] = pitching_boxplots_is_all_star\n",
    "\n",
    "fig, axes = plt.subplots(ncols = 12, figsize = (20, 8))\n",
    "pitching_boxplots.query(\"is_all_star in [0, 1]\").boxplot(by='is_all_star', return_type = 'axes', ax = axes)\n"
   ]
  },
  {
   "cell_type": "markdown",
   "metadata": {},
   "source": [
    "# EDA: Visualization for Relevant Variable Correlations"
   ]
  },
  {
   "cell_type": "code",
   "execution_count": 12,
   "metadata": {},
   "outputs": [
    {
     "data": {
      "text/html": [
       "<style type=\"text/css\">\n",
       "#T_ad07b_row0_col0, #T_ad07b_row1_col1, #T_ad07b_row2_col2, #T_ad07b_row2_col10, #T_ad07b_row3_col3, #T_ad07b_row4_col4, #T_ad07b_row5_col5, #T_ad07b_row6_col6, #T_ad07b_row7_col7, #T_ad07b_row8_col8, #T_ad07b_row9_col9, #T_ad07b_row10_col2, #T_ad07b_row10_col10, #T_ad07b_row11_col11, #T_ad07b_row12_col12 {\n",
       "  background-color: #023858;\n",
       "  color: #f1f1f1;\n",
       "}\n",
       "#T_ad07b_row0_col1 {\n",
       "  background-color: #2f8bbe;\n",
       "  color: #f1f1f1;\n",
       "}\n",
       "#T_ad07b_row0_col2, #T_ad07b_row2_col0, #T_ad07b_row8_col3 {\n",
       "  background-color: #62a2cb;\n",
       "  color: #f1f1f1;\n",
       "}\n",
       "#T_ad07b_row0_col3 {\n",
       "  background-color: #80aed2;\n",
       "  color: #f1f1f1;\n",
       "}\n",
       "#T_ad07b_row0_col4, #T_ad07b_row4_col12, #T_ad07b_row11_col12 {\n",
       "  background-color: #529bc7;\n",
       "  color: #f1f1f1;\n",
       "}\n",
       "#T_ad07b_row0_col5 {\n",
       "  background-color: #2685bb;\n",
       "  color: #f1f1f1;\n",
       "}\n",
       "#T_ad07b_row0_col6 {\n",
       "  background-color: #dddbec;\n",
       "  color: #000000;\n",
       "}\n",
       "#T_ad07b_row0_col7, #T_ad07b_row2_col7 {\n",
       "  background-color: #e7e3f0;\n",
       "  color: #000000;\n",
       "}\n",
       "#T_ad07b_row0_col8, #T_ad07b_row12_col2 {\n",
       "  background-color: #94b6d7;\n",
       "  color: #000000;\n",
       "}\n",
       "#T_ad07b_row0_col9 {\n",
       "  background-color: #8eb3d5;\n",
       "  color: #000000;\n",
       "}\n",
       "#T_ad07b_row0_col10, #T_ad07b_row11_col8, #T_ad07b_row12_col1 {\n",
       "  background-color: #5c9fc9;\n",
       "  color: #f1f1f1;\n",
       "}\n",
       "#T_ad07b_row0_col11 {\n",
       "  background-color: #4897c4;\n",
       "  color: #f1f1f1;\n",
       "}\n",
       "#T_ad07b_row0_col12, #T_ad07b_row9_col12 {\n",
       "  background-color: #6da6cd;\n",
       "  color: #f1f1f1;\n",
       "}\n",
       "#T_ad07b_row1_col0, #T_ad07b_row8_col10 {\n",
       "  background-color: #3b92c1;\n",
       "  color: #f1f1f1;\n",
       "}\n",
       "#T_ad07b_row1_col2 {\n",
       "  background-color: #034165;\n",
       "  color: #f1f1f1;\n",
       "}\n",
       "#T_ad07b_row1_col3 {\n",
       "  background-color: #045788;\n",
       "  color: #f1f1f1;\n",
       "}\n",
       "#T_ad07b_row1_col4, #T_ad07b_row4_col1 {\n",
       "  background-color: #045a8d;\n",
       "  color: #f1f1f1;\n",
       "}\n",
       "#T_ad07b_row1_col5 {\n",
       "  background-color: #045c90;\n",
       "  color: #f1f1f1;\n",
       "}\n",
       "#T_ad07b_row1_col6 {\n",
       "  background-color: #dcdaeb;\n",
       "  color: #000000;\n",
       "}\n",
       "#T_ad07b_row1_col7, #T_ad07b_row6_col1, #T_ad07b_row6_col11 {\n",
       "  background-color: #f2ecf5;\n",
       "  color: #000000;\n",
       "}\n",
       "#T_ad07b_row1_col8 {\n",
       "  background-color: #3991c1;\n",
       "  color: #f1f1f1;\n",
       "}\n",
       "#T_ad07b_row1_col9, #T_ad07b_row9_col2 {\n",
       "  background-color: #2182b9;\n",
       "  color: #f1f1f1;\n",
       "}\n",
       "#T_ad07b_row1_col10, #T_ad07b_row2_col1, #T_ad07b_row10_col1 {\n",
       "  background-color: #023f64;\n",
       "  color: #f1f1f1;\n",
       "}\n",
       "#T_ad07b_row1_col11, #T_ad07b_row10_col4, #T_ad07b_row11_col1 {\n",
       "  background-color: #045585;\n",
       "  color: #f1f1f1;\n",
       "}\n",
       "#T_ad07b_row1_col12 {\n",
       "  background-color: #4094c3;\n",
       "  color: #f1f1f1;\n",
       "}\n",
       "#T_ad07b_row2_col3, #T_ad07b_row3_col2 {\n",
       "  background-color: #034d79;\n",
       "  color: #f1f1f1;\n",
       "}\n",
       "#T_ad07b_row2_col4, #T_ad07b_row3_col1, #T_ad07b_row4_col10 {\n",
       "  background-color: #045687;\n",
       "  color: #f1f1f1;\n",
       "}\n",
       "#T_ad07b_row2_col5 {\n",
       "  background-color: #04649e;\n",
       "  color: #f1f1f1;\n",
       "}\n",
       "#T_ad07b_row2_col6 {\n",
       "  background-color: #d3d4e7;\n",
       "  color: #000000;\n",
       "}\n",
       "#T_ad07b_row2_col8, #T_ad07b_row8_col1, #T_ad07b_row9_col3 {\n",
       "  background-color: #358fc0;\n",
       "  color: #f1f1f1;\n",
       "}\n",
       "#T_ad07b_row2_col9, #T_ad07b_row9_col10 {\n",
       "  background-color: #2081b9;\n",
       "  color: #f1f1f1;\n",
       "}\n",
       "#T_ad07b_row2_col11, #T_ad07b_row5_col1 {\n",
       "  background-color: #045e94;\n",
       "  color: #f1f1f1;\n",
       "}\n",
       "#T_ad07b_row2_col12 {\n",
       "  background-color: #67a4cc;\n",
       "  color: #f1f1f1;\n",
       "}\n",
       "#T_ad07b_row3_col0 {\n",
       "  background-color: #83afd3;\n",
       "  color: #f1f1f1;\n",
       "}\n",
       "#T_ad07b_row3_col4, #T_ad07b_row6_col7 {\n",
       "  background-color: #0569a4;\n",
       "  color: #f1f1f1;\n",
       "}\n",
       "#T_ad07b_row3_col5 {\n",
       "  background-color: #0567a1;\n",
       "  color: #f1f1f1;\n",
       "}\n",
       "#T_ad07b_row3_col6 {\n",
       "  background-color: #d9d8ea;\n",
       "  color: #000000;\n",
       "}\n",
       "#T_ad07b_row3_col7, #T_ad07b_row4_col6, #T_ad07b_row8_col6, #T_ad07b_row10_col7 {\n",
       "  background-color: #e9e5f1;\n",
       "  color: #000000;\n",
       "}\n",
       "#T_ad07b_row3_col8 {\n",
       "  background-color: #5a9ec9;\n",
       "  color: #f1f1f1;\n",
       "}\n",
       "#T_ad07b_row3_col9, #T_ad07b_row10_col8, #T_ad07b_row11_col9 {\n",
       "  background-color: #348ebf;\n",
       "  color: #f1f1f1;\n",
       "}\n",
       "#T_ad07b_row3_col10, #T_ad07b_row10_col3 {\n",
       "  background-color: #034e7b;\n",
       "  color: #f1f1f1;\n",
       "}\n",
       "#T_ad07b_row3_col11, #T_ad07b_row11_col5 {\n",
       "  background-color: #0570b0;\n",
       "  color: #f1f1f1;\n",
       "}\n",
       "#T_ad07b_row3_col12, #T_ad07b_row8_col12 {\n",
       "  background-color: #69a5cc;\n",
       "  color: #f1f1f1;\n",
       "}\n",
       "#T_ad07b_row4_col0 {\n",
       "  background-color: #60a1ca;\n",
       "  color: #f1f1f1;\n",
       "}\n",
       "#T_ad07b_row4_col2 {\n",
       "  background-color: #04588a;\n",
       "  color: #f1f1f1;\n",
       "}\n",
       "#T_ad07b_row4_col3 {\n",
       "  background-color: #056ba7;\n",
       "  color: #f1f1f1;\n",
       "}\n",
       "#T_ad07b_row4_col5 {\n",
       "  background-color: #04629a;\n",
       "  color: #f1f1f1;\n",
       "}\n",
       "#T_ad07b_row4_col7, #T_ad07b_row11_col7 {\n",
       "  background-color: #f1ebf5;\n",
       "  color: #000000;\n",
       "}\n",
       "#T_ad07b_row4_col8 {\n",
       "  background-color: #157ab5;\n",
       "  color: #f1f1f1;\n",
       "}\n",
       "#T_ad07b_row4_col9 {\n",
       "  background-color: #2383ba;\n",
       "  color: #f1f1f1;\n",
       "}\n",
       "#T_ad07b_row4_col11, #T_ad07b_row11_col4 {\n",
       "  background-color: #0566a0;\n",
       "  color: #f1f1f1;\n",
       "}\n",
       "#T_ad07b_row5_col0, #T_ad07b_row8_col2 {\n",
       "  background-color: #3f93c2;\n",
       "  color: #f1f1f1;\n",
       "}\n",
       "#T_ad07b_row5_col2 {\n",
       "  background-color: #056aa6;\n",
       "  color: #f1f1f1;\n",
       "}\n",
       "#T_ad07b_row5_col3 {\n",
       "  background-color: #056caa;\n",
       "  color: #f1f1f1;\n",
       "}\n",
       "#T_ad07b_row5_col4 {\n",
       "  background-color: #05659f;\n",
       "  color: #f1f1f1;\n",
       "}\n",
       "#T_ad07b_row5_col6, #T_ad07b_row6_col3, #T_ad07b_row7_col12 {\n",
       "  background-color: #f9f2f8;\n",
       "  color: #000000;\n",
       "}\n",
       "#T_ad07b_row5_col7, #T_ad07b_row7_col5 {\n",
       "  background-color: #fbf4f9;\n",
       "  color: #000000;\n",
       "}\n",
       "#T_ad07b_row5_col8 {\n",
       "  background-color: #2786bb;\n",
       "  color: #f1f1f1;\n",
       "}\n",
       "#T_ad07b_row5_col9 {\n",
       "  background-color: #2484ba;\n",
       "  color: #f1f1f1;\n",
       "}\n",
       "#T_ad07b_row5_col10 {\n",
       "  background-color: #0569a5;\n",
       "  color: #f1f1f1;\n",
       "}\n",
       "#T_ad07b_row5_col11 {\n",
       "  background-color: #0f76b3;\n",
       "  color: #f1f1f1;\n",
       "}\n",
       "#T_ad07b_row5_col12 {\n",
       "  background-color: #1278b4;\n",
       "  color: #f1f1f1;\n",
       "}\n",
       "#T_ad07b_row6_col0, #T_ad07b_row6_col4, #T_ad07b_row7_col8 {\n",
       "  background-color: #fdf5fa;\n",
       "  color: #000000;\n",
       "}\n",
       "#T_ad07b_row6_col2, #T_ad07b_row6_col10 {\n",
       "  background-color: #f4eef6;\n",
       "  color: #000000;\n",
       "}\n",
       "#T_ad07b_row6_col5, #T_ad07b_row6_col8, #T_ad07b_row6_col12, #T_ad07b_row7_col0, #T_ad07b_row7_col1, #T_ad07b_row7_col2, #T_ad07b_row7_col3, #T_ad07b_row7_col4, #T_ad07b_row7_col9, #T_ad07b_row7_col10, #T_ad07b_row7_col11, #T_ad07b_row12_col6, #T_ad07b_row12_col7 {\n",
       "  background-color: #fff7fb;\n",
       "  color: #000000;\n",
       "}\n",
       "#T_ad07b_row6_col9 {\n",
       "  background-color: #fef6fa;\n",
       "  color: #000000;\n",
       "}\n",
       "#T_ad07b_row7_col6 {\n",
       "  background-color: #0567a2;\n",
       "  color: #f1f1f1;\n",
       "}\n",
       "#T_ad07b_row8_col0 {\n",
       "  background-color: #a1bbda;\n",
       "  color: #000000;\n",
       "}\n",
       "#T_ad07b_row8_col4, #T_ad07b_row9_col5 {\n",
       "  background-color: #1379b5;\n",
       "  color: #f1f1f1;\n",
       "}\n",
       "#T_ad07b_row8_col5 {\n",
       "  background-color: #197db7;\n",
       "  color: #f1f1f1;\n",
       "}\n",
       "#T_ad07b_row8_col7 {\n",
       "  background-color: #eee8f3;\n",
       "  color: #000000;\n",
       "}\n",
       "#T_ad07b_row8_col9 {\n",
       "  background-color: #7bacd1;\n",
       "  color: #f1f1f1;\n",
       "}\n",
       "#T_ad07b_row8_col11, #T_ad07b_row11_col0 {\n",
       "  background-color: #589ec8;\n",
       "  color: #f1f1f1;\n",
       "}\n",
       "#T_ad07b_row9_col0 {\n",
       "  background-color: #91b5d6;\n",
       "  color: #000000;\n",
       "}\n",
       "#T_ad07b_row9_col1 {\n",
       "  background-color: #1b7eb7;\n",
       "  color: #f1f1f1;\n",
       "}\n",
       "#T_ad07b_row9_col4 {\n",
       "  background-color: #1c7fb8;\n",
       "  color: #f1f1f1;\n",
       "}\n",
       "#T_ad07b_row9_col6 {\n",
       "  background-color: #e0deed;\n",
       "  color: #000000;\n",
       "}\n",
       "#T_ad07b_row9_col7 {\n",
       "  background-color: #eae6f1;\n",
       "  color: #000000;\n",
       "}\n",
       "#T_ad07b_row9_col8, #T_ad07b_row12_col11 {\n",
       "  background-color: #73a9cf;\n",
       "  color: #f1f1f1;\n",
       "}\n",
       "#T_ad07b_row9_col11 {\n",
       "  background-color: #2d8abd;\n",
       "  color: #f1f1f1;\n",
       "}\n",
       "#T_ad07b_row10_col0 {\n",
       "  background-color: #5ea0ca;\n",
       "  color: #f1f1f1;\n",
       "}\n",
       "#T_ad07b_row10_col5 {\n",
       "  background-color: #04649d;\n",
       "  color: #f1f1f1;\n",
       "}\n",
       "#T_ad07b_row10_col6 {\n",
       "  background-color: #d4d4e8;\n",
       "  color: #000000;\n",
       "}\n",
       "#T_ad07b_row10_col9 {\n",
       "  background-color: #1e80b8;\n",
       "  color: #f1f1f1;\n",
       "}\n",
       "#T_ad07b_row10_col11 {\n",
       "  background-color: #045e93;\n",
       "  color: #f1f1f1;\n",
       "}\n",
       "#T_ad07b_row10_col12 {\n",
       "  background-color: #63a2cb;\n",
       "  color: #f1f1f1;\n",
       "}\n",
       "#T_ad07b_row11_col2 {\n",
       "  background-color: #046097;\n",
       "  color: #f1f1f1;\n",
       "}\n",
       "#T_ad07b_row11_col3 {\n",
       "  background-color: #0a73b2;\n",
       "  color: #f1f1f1;\n",
       "}\n",
       "#T_ad07b_row11_col6 {\n",
       "  background-color: #dbdaeb;\n",
       "  color: #000000;\n",
       "}\n",
       "#T_ad07b_row11_col10 {\n",
       "  background-color: #045f95;\n",
       "  color: #f1f1f1;\n",
       "}\n",
       "#T_ad07b_row12_col0 {\n",
       "  background-color: #99b8d8;\n",
       "  color: #000000;\n",
       "}\n",
       "#T_ad07b_row12_col3 {\n",
       "  background-color: #93b5d6;\n",
       "  color: #000000;\n",
       "}\n",
       "#T_ad07b_row12_col4 {\n",
       "  background-color: #71a8ce;\n",
       "  color: #f1f1f1;\n",
       "}\n",
       "#T_ad07b_row12_col5 {\n",
       "  background-color: #167bb6;\n",
       "  color: #f1f1f1;\n",
       "}\n",
       "#T_ad07b_row12_col8 {\n",
       "  background-color: #8bb2d4;\n",
       "  color: #000000;\n",
       "}\n",
       "#T_ad07b_row12_col9 {\n",
       "  background-color: #96b6d7;\n",
       "  color: #000000;\n",
       "}\n",
       "#T_ad07b_row12_col10 {\n",
       "  background-color: #8fb4d6;\n",
       "  color: #000000;\n",
       "}\n",
       "</style>\n",
       "<table id=\"T_ad07b_\">\n",
       "  <thead>\n",
       "    <tr>\n",
       "      <th class=\"blank level0\" >&nbsp;</th>\n",
       "      <th class=\"col_heading level0 col0\" >SHO</th>\n",
       "      <th class=\"col_heading level0 col1\" >H</th>\n",
       "      <th class=\"col_heading level0 col2\" >ER</th>\n",
       "      <th class=\"col_heading level0 col3\" >HR</th>\n",
       "      <th class=\"col_heading level0 col4\" >BB</th>\n",
       "      <th class=\"col_heading level0 col5\" >SO</th>\n",
       "      <th class=\"col_heading level0 col6\" >BAOpp</th>\n",
       "      <th class=\"col_heading level0 col7\" >ERA</th>\n",
       "      <th class=\"col_heading level0 col8\" >WP</th>\n",
       "      <th class=\"col_heading level0 col9\" >HBP</th>\n",
       "      <th class=\"col_heading level0 col10\" >R</th>\n",
       "      <th class=\"col_heading level0 col11\" >GIDP</th>\n",
       "      <th class=\"col_heading level0 col12\" >is_all_star</th>\n",
       "    </tr>\n",
       "  </thead>\n",
       "  <tbody>\n",
       "    <tr>\n",
       "      <th id=\"T_ad07b_level0_row0\" class=\"row_heading level0 row0\" >SHO</th>\n",
       "      <td id=\"T_ad07b_row0_col0\" class=\"data row0 col0\" >1.00</td>\n",
       "      <td id=\"T_ad07b_row0_col1\" class=\"data row0 col1\" >0.56</td>\n",
       "      <td id=\"T_ad07b_row0_col2\" class=\"data row0 col2\" >0.48</td>\n",
       "      <td id=\"T_ad07b_row0_col3\" class=\"data row0 col3\" >0.39</td>\n",
       "      <td id=\"T_ad07b_row0_col4\" class=\"data row0 col4\" >0.48</td>\n",
       "      <td id=\"T_ad07b_row0_col5\" class=\"data row0 col5\" >0.56</td>\n",
       "      <td id=\"T_ad07b_row0_col6\" class=\"data row0 col6\" >-0.11</td>\n",
       "      <td id=\"T_ad07b_row0_col7\" class=\"data row0 col7\" >-0.13</td>\n",
       "      <td id=\"T_ad07b_row0_col8\" class=\"data row0 col8\" >0.31</td>\n",
       "      <td id=\"T_ad07b_row0_col9\" class=\"data row0 col9\" >0.35</td>\n",
       "      <td id=\"T_ad07b_row0_col10\" class=\"data row0 col10\" >0.48</td>\n",
       "      <td id=\"T_ad07b_row0_col11\" class=\"data row0 col11\" >0.50</td>\n",
       "      <td id=\"T_ad07b_row0_col12\" class=\"data row0 col12\" >0.33</td>\n",
       "    </tr>\n",
       "    <tr>\n",
       "      <th id=\"T_ad07b_level0_row1\" class=\"row_heading level0 row1\" >H</th>\n",
       "      <td id=\"T_ad07b_row1_col0\" class=\"data row1 col0\" >0.56</td>\n",
       "      <td id=\"T_ad07b_row1_col1\" class=\"data row1 col1\" >1.00</td>\n",
       "      <td id=\"T_ad07b_row1_col2\" class=\"data row1 col2\" >0.96</td>\n",
       "      <td id=\"T_ad07b_row1_col3\" class=\"data row1 col3\" >0.87</td>\n",
       "      <td id=\"T_ad07b_row1_col4\" class=\"data row1 col4\" >0.85</td>\n",
       "      <td id=\"T_ad07b_row1_col5\" class=\"data row1 col5\" >0.82</td>\n",
       "      <td id=\"T_ad07b_row1_col6\" class=\"data row1 col6\" >-0.11</td>\n",
       "      <td id=\"T_ad07b_row1_col7\" class=\"data row1 col7\" >-0.21</td>\n",
       "      <td id=\"T_ad07b_row1_col8\" class=\"data row1 col8\" >0.55</td>\n",
       "      <td id=\"T_ad07b_row1_col9\" class=\"data row1 col9\" >0.63</td>\n",
       "      <td id=\"T_ad07b_row1_col10\" class=\"data row1 col10\" >0.97</td>\n",
       "      <td id=\"T_ad07b_row1_col11\" class=\"data row1 col11\" >0.87</td>\n",
       "      <td id=\"T_ad07b_row1_col12\" class=\"data row1 col12\" >0.45</td>\n",
       "    </tr>\n",
       "    <tr>\n",
       "      <th id=\"T_ad07b_level0_row2\" class=\"row_heading level0 row2\" >ER</th>\n",
       "      <td id=\"T_ad07b_row2_col0\" class=\"data row2 col0\" >0.48</td>\n",
       "      <td id=\"T_ad07b_row2_col1\" class=\"data row2 col1\" >0.96</td>\n",
       "      <td id=\"T_ad07b_row2_col2\" class=\"data row2 col2\" >1.00</td>\n",
       "      <td id=\"T_ad07b_row2_col3\" class=\"data row2 col3\" >0.91</td>\n",
       "      <td id=\"T_ad07b_row2_col4\" class=\"data row2 col4\" >0.87</td>\n",
       "      <td id=\"T_ad07b_row2_col5\" class=\"data row2 col5\" >0.75</td>\n",
       "      <td id=\"T_ad07b_row2_col6\" class=\"data row2 col6\" >-0.05</td>\n",
       "      <td id=\"T_ad07b_row2_col7\" class=\"data row2 col7\" >-0.13</td>\n",
       "      <td id=\"T_ad07b_row2_col8\" class=\"data row2 col8\" >0.55</td>\n",
       "      <td id=\"T_ad07b_row2_col9\" class=\"data row2 col9\" >0.63</td>\n",
       "      <td id=\"T_ad07b_row2_col10\" class=\"data row2 col10\" >1.00</td>\n",
       "      <td id=\"T_ad07b_row2_col11\" class=\"data row2 col11\" >0.82</td>\n",
       "      <td id=\"T_ad07b_row2_col12\" class=\"data row2 col12\" >0.34</td>\n",
       "    </tr>\n",
       "    <tr>\n",
       "      <th id=\"T_ad07b_level0_row3\" class=\"row_heading level0 row3\" >HR</th>\n",
       "      <td id=\"T_ad07b_row3_col0\" class=\"data row3 col0\" >0.39</td>\n",
       "      <td id=\"T_ad07b_row3_col1\" class=\"data row3 col1\" >0.87</td>\n",
       "      <td id=\"T_ad07b_row3_col2\" class=\"data row3 col2\" >0.91</td>\n",
       "      <td id=\"T_ad07b_row3_col3\" class=\"data row3 col3\" >1.00</td>\n",
       "      <td id=\"T_ad07b_row3_col4\" class=\"data row3 col4\" >0.75</td>\n",
       "      <td id=\"T_ad07b_row3_col5\" class=\"data row3 col5\" >0.74</td>\n",
       "      <td id=\"T_ad07b_row3_col6\" class=\"data row3 col6\" >-0.10</td>\n",
       "      <td id=\"T_ad07b_row3_col7\" class=\"data row3 col7\" >-0.14</td>\n",
       "      <td id=\"T_ad07b_row3_col8\" class=\"data row3 col8\" >0.47</td>\n",
       "      <td id=\"T_ad07b_row3_col9\" class=\"data row3 col9\" >0.57</td>\n",
       "      <td id=\"T_ad07b_row3_col10\" class=\"data row3 col10\" >0.90</td>\n",
       "      <td id=\"T_ad07b_row3_col11\" class=\"data row3 col11\" >0.70</td>\n",
       "      <td id=\"T_ad07b_row3_col12\" class=\"data row3 col12\" >0.34</td>\n",
       "    </tr>\n",
       "    <tr>\n",
       "      <th id=\"T_ad07b_level0_row4\" class=\"row_heading level0 row4\" >BB</th>\n",
       "      <td id=\"T_ad07b_row4_col0\" class=\"data row4 col0\" >0.48</td>\n",
       "      <td id=\"T_ad07b_row4_col1\" class=\"data row4 col1\" >0.85</td>\n",
       "      <td id=\"T_ad07b_row4_col2\" class=\"data row4 col2\" >0.87</td>\n",
       "      <td id=\"T_ad07b_row4_col3\" class=\"data row4 col3\" >0.75</td>\n",
       "      <td id=\"T_ad07b_row4_col4\" class=\"data row4 col4\" >1.00</td>\n",
       "      <td id=\"T_ad07b_row4_col5\" class=\"data row4 col5\" >0.77</td>\n",
       "      <td id=\"T_ad07b_row4_col6\" class=\"data row4 col6\" >-0.19</td>\n",
       "      <td id=\"T_ad07b_row4_col7\" class=\"data row4 col7\" >-0.21</td>\n",
       "      <td id=\"T_ad07b_row4_col8\" class=\"data row4 col8\" >0.65</td>\n",
       "      <td id=\"T_ad07b_row4_col9\" class=\"data row4 col9\" >0.63</td>\n",
       "      <td id=\"T_ad07b_row4_col10\" class=\"data row4 col10\" >0.87</td>\n",
       "      <td id=\"T_ad07b_row4_col11\" class=\"data row4 col11\" >0.77</td>\n",
       "      <td id=\"T_ad07b_row4_col12\" class=\"data row4 col12\" >0.40</td>\n",
       "    </tr>\n",
       "    <tr>\n",
       "      <th id=\"T_ad07b_level0_row5\" class=\"row_heading level0 row5\" >SO</th>\n",
       "      <td id=\"T_ad07b_row5_col0\" class=\"data row5 col0\" >0.56</td>\n",
       "      <td id=\"T_ad07b_row5_col1\" class=\"data row5 col1\" >0.82</td>\n",
       "      <td id=\"T_ad07b_row5_col2\" class=\"data row5 col2\" >0.75</td>\n",
       "      <td id=\"T_ad07b_row5_col3\" class=\"data row5 col3\" >0.74</td>\n",
       "      <td id=\"T_ad07b_row5_col4\" class=\"data row5 col4\" >0.77</td>\n",
       "      <td id=\"T_ad07b_row5_col5\" class=\"data row5 col5\" >1.00</td>\n",
       "      <td id=\"T_ad07b_row5_col6\" class=\"data row5 col6\" >-0.33</td>\n",
       "      <td id=\"T_ad07b_row5_col7\" class=\"data row5 col7\" >-0.29</td>\n",
       "      <td id=\"T_ad07b_row5_col8\" class=\"data row5 col8\" >0.60</td>\n",
       "      <td id=\"T_ad07b_row5_col9\" class=\"data row5 col9\" >0.62</td>\n",
       "      <td id=\"T_ad07b_row5_col10\" class=\"data row5 col10\" >0.76</td>\n",
       "      <td id=\"T_ad07b_row5_col11\" class=\"data row5 col11\" >0.67</td>\n",
       "      <td id=\"T_ad07b_row5_col12\" class=\"data row5 col12\" >0.61</td>\n",
       "    </tr>\n",
       "    <tr>\n",
       "      <th id=\"T_ad07b_level0_row6\" class=\"row_heading level0 row6\" >BAOpp</th>\n",
       "      <td id=\"T_ad07b_row6_col0\" class=\"data row6 col0\" >-0.11</td>\n",
       "      <td id=\"T_ad07b_row6_col1\" class=\"data row6 col1\" >-0.11</td>\n",
       "      <td id=\"T_ad07b_row6_col2\" class=\"data row6 col2\" >-0.05</td>\n",
       "      <td id=\"T_ad07b_row6_col3\" class=\"data row6 col3\" >-0.10</td>\n",
       "      <td id=\"T_ad07b_row6_col4\" class=\"data row6 col4\" >-0.19</td>\n",
       "      <td id=\"T_ad07b_row6_col5\" class=\"data row6 col5\" >-0.33</td>\n",
       "      <td id=\"T_ad07b_row6_col6\" class=\"data row6 col6\" >1.00</td>\n",
       "      <td id=\"T_ad07b_row6_col7\" class=\"data row6 col7\" >0.72</td>\n",
       "      <td id=\"T_ad07b_row6_col8\" class=\"data row6 col8\" >-0.19</td>\n",
       "      <td id=\"T_ad07b_row6_col9\" class=\"data row6 col9\" >-0.14</td>\n",
       "      <td id=\"T_ad07b_row6_col10\" class=\"data row6 col10\" >-0.06</td>\n",
       "      <td id=\"T_ad07b_row6_col11\" class=\"data row6 col11\" >-0.11</td>\n",
       "      <td id=\"T_ad07b_row6_col12\" class=\"data row6 col12\" >-0.38</td>\n",
       "    </tr>\n",
       "    <tr>\n",
       "      <th id=\"T_ad07b_level0_row7\" class=\"row_heading level0 row7\" >ERA</th>\n",
       "      <td id=\"T_ad07b_row7_col0\" class=\"data row7 col0\" >-0.13</td>\n",
       "      <td id=\"T_ad07b_row7_col1\" class=\"data row7 col1\" >-0.21</td>\n",
       "      <td id=\"T_ad07b_row7_col2\" class=\"data row7 col2\" >-0.13</td>\n",
       "      <td id=\"T_ad07b_row7_col3\" class=\"data row7 col3\" >-0.14</td>\n",
       "      <td id=\"T_ad07b_row7_col4\" class=\"data row7 col4\" >-0.21</td>\n",
       "      <td id=\"T_ad07b_row7_col5\" class=\"data row7 col5\" >-0.29</td>\n",
       "      <td id=\"T_ad07b_row7_col6\" class=\"data row7 col6\" >0.72</td>\n",
       "      <td id=\"T_ad07b_row7_col7\" class=\"data row7 col7\" >1.00</td>\n",
       "      <td id=\"T_ad07b_row7_col8\" class=\"data row7 col8\" >-0.17</td>\n",
       "      <td id=\"T_ad07b_row7_col9\" class=\"data row7 col9\" >-0.15</td>\n",
       "      <td id=\"T_ad07b_row7_col10\" class=\"data row7 col10\" >-0.14</td>\n",
       "      <td id=\"T_ad07b_row7_col11\" class=\"data row7 col11\" >-0.21</td>\n",
       "      <td id=\"T_ad07b_row7_col12\" class=\"data row7 col12\" >-0.33</td>\n",
       "    </tr>\n",
       "    <tr>\n",
       "      <th id=\"T_ad07b_level0_row8\" class=\"row_heading level0 row8\" >WP</th>\n",
       "      <td id=\"T_ad07b_row8_col0\" class=\"data row8 col0\" >0.31</td>\n",
       "      <td id=\"T_ad07b_row8_col1\" class=\"data row8 col1\" >0.55</td>\n",
       "      <td id=\"T_ad07b_row8_col2\" class=\"data row8 col2\" >0.55</td>\n",
       "      <td id=\"T_ad07b_row8_col3\" class=\"data row8 col3\" >0.47</td>\n",
       "      <td id=\"T_ad07b_row8_col4\" class=\"data row8 col4\" >0.65</td>\n",
       "      <td id=\"T_ad07b_row8_col5\" class=\"data row8 col5\" >0.60</td>\n",
       "      <td id=\"T_ad07b_row8_col6\" class=\"data row8 col6\" >-0.19</td>\n",
       "      <td id=\"T_ad07b_row8_col7\" class=\"data row8 col7\" >-0.17</td>\n",
       "      <td id=\"T_ad07b_row8_col8\" class=\"data row8 col8\" >1.00</td>\n",
       "      <td id=\"T_ad07b_row8_col9\" class=\"data row8 col9\" >0.41</td>\n",
       "      <td id=\"T_ad07b_row8_col10\" class=\"data row8 col10\" >0.56</td>\n",
       "      <td id=\"T_ad07b_row8_col11\" class=\"data row8 col11\" >0.46</td>\n",
       "      <td id=\"T_ad07b_row8_col12\" class=\"data row8 col12\" >0.34</td>\n",
       "    </tr>\n",
       "    <tr>\n",
       "      <th id=\"T_ad07b_level0_row9\" class=\"row_heading level0 row9\" >HBP</th>\n",
       "      <td id=\"T_ad07b_row9_col0\" class=\"data row9 col0\" >0.35</td>\n",
       "      <td id=\"T_ad07b_row9_col1\" class=\"data row9 col1\" >0.63</td>\n",
       "      <td id=\"T_ad07b_row9_col2\" class=\"data row9 col2\" >0.63</td>\n",
       "      <td id=\"T_ad07b_row9_col3\" class=\"data row9 col3\" >0.57</td>\n",
       "      <td id=\"T_ad07b_row9_col4\" class=\"data row9 col4\" >0.63</td>\n",
       "      <td id=\"T_ad07b_row9_col5\" class=\"data row9 col5\" >0.62</td>\n",
       "      <td id=\"T_ad07b_row9_col6\" class=\"data row9 col6\" >-0.14</td>\n",
       "      <td id=\"T_ad07b_row9_col7\" class=\"data row9 col7\" >-0.15</td>\n",
       "      <td id=\"T_ad07b_row9_col8\" class=\"data row9 col8\" >0.41</td>\n",
       "      <td id=\"T_ad07b_row9_col9\" class=\"data row9 col9\" >1.00</td>\n",
       "      <td id=\"T_ad07b_row9_col10\" class=\"data row9 col10\" >0.64</td>\n",
       "      <td id=\"T_ad07b_row9_col11\" class=\"data row9 col11\" >0.58</td>\n",
       "      <td id=\"T_ad07b_row9_col12\" class=\"data row9 col12\" >0.33</td>\n",
       "    </tr>\n",
       "    <tr>\n",
       "      <th id=\"T_ad07b_level0_row10\" class=\"row_heading level0 row10\" >R</th>\n",
       "      <td id=\"T_ad07b_row10_col0\" class=\"data row10 col0\" >0.48</td>\n",
       "      <td id=\"T_ad07b_row10_col1\" class=\"data row10 col1\" >0.97</td>\n",
       "      <td id=\"T_ad07b_row10_col2\" class=\"data row10 col2\" >1.00</td>\n",
       "      <td id=\"T_ad07b_row10_col3\" class=\"data row10 col3\" >0.90</td>\n",
       "      <td id=\"T_ad07b_row10_col4\" class=\"data row10 col4\" >0.87</td>\n",
       "      <td id=\"T_ad07b_row10_col5\" class=\"data row10 col5\" >0.76</td>\n",
       "      <td id=\"T_ad07b_row10_col6\" class=\"data row10 col6\" >-0.06</td>\n",
       "      <td id=\"T_ad07b_row10_col7\" class=\"data row10 col7\" >-0.14</td>\n",
       "      <td id=\"T_ad07b_row10_col8\" class=\"data row10 col8\" >0.56</td>\n",
       "      <td id=\"T_ad07b_row10_col9\" class=\"data row10 col9\" >0.64</td>\n",
       "      <td id=\"T_ad07b_row10_col10\" class=\"data row10 col10\" >1.00</td>\n",
       "      <td id=\"T_ad07b_row10_col11\" class=\"data row10 col11\" >0.82</td>\n",
       "      <td id=\"T_ad07b_row10_col12\" class=\"data row10 col12\" >0.35</td>\n",
       "    </tr>\n",
       "    <tr>\n",
       "      <th id=\"T_ad07b_level0_row11\" class=\"row_heading level0 row11\" >GIDP</th>\n",
       "      <td id=\"T_ad07b_row11_col0\" class=\"data row11 col0\" >0.50</td>\n",
       "      <td id=\"T_ad07b_row11_col1\" class=\"data row11 col1\" >0.87</td>\n",
       "      <td id=\"T_ad07b_row11_col2\" class=\"data row11 col2\" >0.82</td>\n",
       "      <td id=\"T_ad07b_row11_col3\" class=\"data row11 col3\" >0.70</td>\n",
       "      <td id=\"T_ad07b_row11_col4\" class=\"data row11 col4\" >0.77</td>\n",
       "      <td id=\"T_ad07b_row11_col5\" class=\"data row11 col5\" >0.67</td>\n",
       "      <td id=\"T_ad07b_row11_col6\" class=\"data row11 col6\" >-0.11</td>\n",
       "      <td id=\"T_ad07b_row11_col7\" class=\"data row11 col7\" >-0.21</td>\n",
       "      <td id=\"T_ad07b_row11_col8\" class=\"data row11 col8\" >0.46</td>\n",
       "      <td id=\"T_ad07b_row11_col9\" class=\"data row11 col9\" >0.58</td>\n",
       "      <td id=\"T_ad07b_row11_col10\" class=\"data row11 col10\" >0.82</td>\n",
       "      <td id=\"T_ad07b_row11_col11\" class=\"data row11 col11\" >1.00</td>\n",
       "      <td id=\"T_ad07b_row11_col12\" class=\"data row11 col12\" >0.40</td>\n",
       "    </tr>\n",
       "    <tr>\n",
       "      <th id=\"T_ad07b_level0_row12\" class=\"row_heading level0 row12\" >is_all_star</th>\n",
       "      <td id=\"T_ad07b_row12_col0\" class=\"data row12 col0\" >0.33</td>\n",
       "      <td id=\"T_ad07b_row12_col1\" class=\"data row12 col1\" >0.45</td>\n",
       "      <td id=\"T_ad07b_row12_col2\" class=\"data row12 col2\" >0.34</td>\n",
       "      <td id=\"T_ad07b_row12_col3\" class=\"data row12 col3\" >0.34</td>\n",
       "      <td id=\"T_ad07b_row12_col4\" class=\"data row12 col4\" >0.40</td>\n",
       "      <td id=\"T_ad07b_row12_col5\" class=\"data row12 col5\" >0.61</td>\n",
       "      <td id=\"T_ad07b_row12_col6\" class=\"data row12 col6\" >-0.38</td>\n",
       "      <td id=\"T_ad07b_row12_col7\" class=\"data row12 col7\" >-0.33</td>\n",
       "      <td id=\"T_ad07b_row12_col8\" class=\"data row12 col8\" >0.34</td>\n",
       "      <td id=\"T_ad07b_row12_col9\" class=\"data row12 col9\" >0.33</td>\n",
       "      <td id=\"T_ad07b_row12_col10\" class=\"data row12 col10\" >0.35</td>\n",
       "      <td id=\"T_ad07b_row12_col11\" class=\"data row12 col11\" >0.40</td>\n",
       "      <td id=\"T_ad07b_row12_col12\" class=\"data row12 col12\" >1.00</td>\n",
       "    </tr>\n",
       "  </tbody>\n",
       "</table>\n"
      ],
      "text/plain": [
       "<pandas.io.formats.style.Styler at 0x7fdd9cf04bb0>"
      ]
     },
     "execution_count": 12,
     "metadata": {},
     "output_type": "execute_result"
    }
   ],
   "source": [
    "pitching_boxplots.corr().style.background_gradient().format(precision = 2)"
   ]
  },
  {
   "cell_type": "markdown",
   "metadata": {},
   "source": [
    "# Splitting Data for Training and Testing"
   ]
  },
  {
   "cell_type": "code",
   "execution_count": 13,
   "metadata": {},
   "outputs": [],
   "source": [
    "train, test = train_test_split(pitching, random_state = 42)\n",
    "\n",
    "X_train = train.drop(columns = ['playerID', 'yearID', 'teamID', 'is_all_star'])\n",
    "y_train = train['is_all_star']\n",
    "\n",
    "X_test = test.drop(columns = ['playerID', 'yearID', 'teamID', 'is_all_star'])\n",
    "y_test = test['is_all_star']"
   ]
  },
  {
   "cell_type": "markdown",
   "metadata": {},
   "source": [
    "# Modeling - Random Forest"
   ]
  },
  {
   "cell_type": "code",
   "execution_count": 14,
   "metadata": {},
   "outputs": [],
   "source": [
    "forest_model = RandomForestClassifier(random_state = 42, n_jobs = 1)\n",
    "fitted = forest_model.fit(X_train, y_train)\n",
    "rf_predictions_test = fitted.predict(X_test)\n",
    "rf_predictions_train = fitted.predict(X_train)"
   ]
  },
  {
   "cell_type": "markdown",
   "metadata": {},
   "source": [
    "# Training and Test Accuracy for Initial Random Forest Model"
   ]
  },
  {
   "cell_type": "code",
   "execution_count": 15,
   "metadata": {},
   "outputs": [
    {
     "name": "stdout",
     "output_type": "stream",
     "text": [
      "training accuracy for random forest: \n"
     ]
    },
    {
     "data": {
      "text/plain": [
       "1.0"
      ]
     },
     "execution_count": 15,
     "metadata": {},
     "output_type": "execute_result"
    }
   ],
   "source": [
    "print('training accuracy for random forest: ')\n",
    "np.mean(y_train == rf_predictions_train)"
   ]
  },
  {
   "cell_type": "code",
   "execution_count": 16,
   "metadata": {},
   "outputs": [
    {
     "name": "stdout",
     "output_type": "stream",
     "text": [
      "test accuracy for random forest: \n"
     ]
    },
    {
     "data": {
      "text/plain": [
       "0.8348623853211009"
      ]
     },
     "execution_count": 16,
     "metadata": {},
     "output_type": "execute_result"
    }
   ],
   "source": [
    "print('test accuracy for random forest: ')\n",
    "np.mean(y_test == rf_predictions_test)"
   ]
  },
  {
   "cell_type": "markdown",
   "metadata": {},
   "source": [
    "# Validation for Initial Random Forest Model"
   ]
  },
  {
   "cell_type": "code",
   "execution_count": 17,
   "metadata": {},
   "outputs": [
    {
     "name": "stdout",
     "output_type": "stream",
     "text": [
      "precision: 0.8174273858921163\n",
      "recall: 0.8755555555555556\n"
     ]
    }
   ],
   "source": [
    "confusion_matrix_rf = metrics.confusion_matrix(y_test, rf_predictions_test, normalize = 'all')\n",
    "precision_rf = confusion_matrix_rf[1][1] / (confusion_matrix_rf[1][1] + confusion_matrix_rf[0][1])\n",
    "recall_rf = confusion_matrix_rf[1][1] / (confusion_matrix_rf[1][1] + confusion_matrix_rf[1][0])\n",
    "print('precision: ' + str(precision_rf))\n",
    "print('recall: ' + str(recall_rf))"
   ]
  },
  {
   "cell_type": "code",
   "execution_count": 18,
   "metadata": {},
   "outputs": [
    {
     "data": {
      "text/plain": [
       "(array([0.        , 0.20853081, 1.        ]),\n",
       " array([0.        , 0.87555556, 1.        ]),\n",
       " array([2, 1, 0]))"
      ]
     },
     "execution_count": 18,
     "metadata": {},
     "output_type": "execute_result"
    }
   ],
   "source": [
    "rf_fpr, rf_tpr, rf_thresholds = metrics.roc_curve(y_test, rf_predictions_test)\n",
    "rf_fpr, rf_tpr, rf_thresholds"
   ]
  },
  {
   "cell_type": "code",
   "execution_count": 19,
   "metadata": {},
   "outputs": [
    {
     "data": {
      "text/plain": [
       "[<matplotlib.lines.Line2D at 0x7fdd9b9c7fd0>]"
      ]
     },
     "execution_count": 19,
     "metadata": {},
     "output_type": "execute_result"
    },
    {
     "data": {
      "image/png": "[encoded data removed]",
      "text/plain": [
       "<Figure size 432x288 with 1 Axes>"
      ]
     },
     "metadata": {
      "needs_background": "light"
     },
     "output_type": "display_data"
    }
   ],
   "source": [
    "plt.xlabel('FPR')\n",
    "plt.ylabel('TPR')\n",
    "plt.title('ROC Curve for the Random Forest Model')\n",
    "plt.plot(rf_fpr, rf_tpr)"
   ]
  },
  {
   "cell_type": "markdown",
   "metadata": {},
   "source": [
    "# Modeling - Logistic Regression"
   ]
  },
  {
   "cell_type": "code",
   "execution_count": 20,
   "metadata": {},
   "outputs": [],
   "source": [
    "lr_model = LogisticRegression(random_state = 42, max_iter = 2000, n_jobs = 1)\n",
    "fitted = lr_model.fit(X_train, y_train)\n",
    "lr_predictions_test = fitted.predict(X_test)\n",
    "lr_predictions_train = fitted.predict(X_train)"
   ]
  },
  {
   "cell_type": "markdown",
   "metadata": {},
   "source": [
    "# Training and Test Accuracy for Initial Logistic Regression Model"
   ]
  },
  {
   "cell_type": "code",
   "execution_count": 21,
   "metadata": {},
   "outputs": [
    {
     "name": "stdout",
     "output_type": "stream",
     "text": [
      "training accuracy for logistic regression: \n"
     ]
    },
    {
     "data": {
      "text/plain": [
       "0.854628921193573"
      ]
     },
     "execution_count": 21,
     "metadata": {},
     "output_type": "execute_result"
    }
   ],
   "source": [
    "print('training accuracy for logistic regression: ')\n",
    "np.mean(y_train == lr_predictions_train)"
   ]
  },
  {
   "cell_type": "code",
   "execution_count": 22,
   "metadata": {},
   "outputs": [
    {
     "name": "stdout",
     "output_type": "stream",
     "text": [
      "test accuracy for logistic regression: \n"
     ]
    },
    {
     "data": {
      "text/plain": [
       "0.8486238532110092"
      ]
     },
     "execution_count": 22,
     "metadata": {},
     "output_type": "execute_result"
    }
   ],
   "source": [
    "print('test accuracy for logistic regression: ')\n",
    "np.mean(y_test == lr_predictions_test)"
   ]
  },
  {
   "cell_type": "markdown",
   "metadata": {},
   "source": [
    "# Validation for Initial Logistic Regression Model"
   ]
  },
  {
   "cell_type": "code",
   "execution_count": 23,
   "metadata": {},
   "outputs": [
    {
     "name": "stdout",
     "output_type": "stream",
     "text": [
      "precision: 0.8354430379746836\n",
      "recall: 0.8800000000000001\n"
     ]
    }
   ],
   "source": [
    "confusion_matrix_lr = metrics.confusion_matrix(y_test, lr_predictions_test, normalize = 'all')\n",
    "precision_lr = confusion_matrix_lr[1][1] / (confusion_matrix_lr[1][1] + confusion_matrix_lr[0][1])\n",
    "recall_lr = confusion_matrix_lr[1][1] / (confusion_matrix_lr[1][1] + confusion_matrix_lr[1][0])\n",
    "print('precision: ' + str(precision_lr))\n",
    "print('recall: ' + str(recall_lr))"
   ]
  },
  {
   "cell_type": "code",
   "execution_count": 24,
   "metadata": {},
   "outputs": [
    {
     "data": {
      "text/plain": [
       "(array([0.        , 0.18483412, 1.        ]),\n",
       " array([0.  , 0.88, 1.  ]),\n",
       " array([2, 1, 0]))"
      ]
     },
     "execution_count": 24,
     "metadata": {},
     "output_type": "execute_result"
    }
   ],
   "source": [
    "lr_fpr, lr_tpr, lr_thresholds = metrics.roc_curve(y_test, lr_predictions_test)\n",
    "lr_fpr, lr_tpr, lr_thresholds"
   ]
  },
  {
   "cell_type": "code",
   "execution_count": 25,
   "metadata": {},
   "outputs": [
    {
     "data": {
      "text/plain": [
       "[<matplotlib.lines.Line2D at 0x7fdd9b8926d0>]"
      ]
     },
     "execution_count": 25,
     "metadata": {},
     "output_type": "execute_result"
    },
    {
     "data": {
      "image/png": "[encoded data removed]",
      "text/plain": [
       "<Figure size 432x288 with 1 Axes>"
      ]
     },
     "metadata": {
      "needs_background": "light"
     },
     "output_type": "display_data"
    }
   ],
   "source": [
    "plt.xlabel('FPR')\n",
    "plt.ylabel('TPR')\n",
    "plt.title('ROC Curve for the Logistic Regression Model')\n",
    "plt.plot(lr_fpr, lr_tpr)"
   ]
  },
  {
   "cell_type": "markdown",
   "metadata": {},
   "source": [
    " # Optimization"
   ]
  },
  {
   "cell_type": "markdown",
   "metadata": {},
   "source": [
    "# Random Search Optimization for Random Forest"
   ]
  },
  {
   "cell_type": "code",
   "execution_count": 26,
   "metadata": {},
   "outputs": [],
   "source": [
    "# Number of trees in random forest\n",
    "n_estimators = [int(x) for x in np.linspace(start = 200, stop = 2000, num = 10)]\n",
    "# Number of features to consider at every split\n",
    "max_features = ['auto', 'sqrt']\n",
    "# Maximum number of levels in tree\n",
    "max_depth = [int(x) for x in np.linspace(10, 110, num = 11)]\n",
    "max_depth.append(None)\n",
    "# Minimum number of samples required to split a node\n",
    "min_samples_split = [2, 5, 10]\n",
    "# Minimum number of samples required at each leaf node\n",
    "min_samples_leaf = [1, 2, 4]\n",
    "# Method of selecting samples for training each tree\n",
    "bootstrap = [True, False]\n",
    "# Create the random grid\n",
    "random_grid = {'n_estimators': n_estimators,\n",
    "               'max_features': max_features,\n",
    "               'max_depth': max_depth,\n",
    "               'min_samples_split': min_samples_split,\n",
    "               'min_samples_leaf': min_samples_leaf,\n",
    "               'bootstrap': bootstrap,\n",
    "               'random_state': [42],\n",
    "               'n_jobs': [1]\n",
    "              }"
   ]
  },
  {
   "cell_type": "code",
   "execution_count": 27,
   "metadata": {},
   "outputs": [
    {
     "name": "stdout",
     "output_type": "stream",
     "text": [
      "Fitting 3 folds for each of 30 candidates, totalling 90 fits\n",
      "[CV] random_state=42, n_jobs=1, n_estimators=200, min_samples_split=10, min_samples_leaf=2, max_features=sqrt, max_depth=50, bootstrap=True \n"
     ]
    },
    {
     "name": "stderr",
     "output_type": "stream",
     "text": [
      "[Parallel(n_jobs=1)]: Using backend SequentialBackend with 1 concurrent workers.\n"
     ]
    },
    {
     "name": "stdout",
     "output_type": "stream",
     "text": [
      "[CV]  random_state=42, n_jobs=1, n_estimators=200, min_samples_split=10, min_samples_leaf=2, max_features=sqrt, max_depth=50, bootstrap=True, total=   0.4s\n",
      "[CV] random_state=42, n_jobs=1, n_estimators=200, min_samples_split=10, min_samples_leaf=2, max_features=sqrt, max_depth=50, bootstrap=True \n"
     ]
    },
    {
     "name": "stderr",
     "output_type": "stream",
     "text": [
      "[Parallel(n_jobs=1)]: Done   1 out of   1 | elapsed:    0.4s remaining:    0.0s\n"
     ]
    },
    {
     "name": "stdout",
     "output_type": "stream",
     "text": [
      "[CV]  random_state=42, n_jobs=1, n_estimators=200, min_samples_split=10, min_samples_leaf=2, max_features=sqrt, max_depth=50, bootstrap=True, total=   0.4s\n",
      "[CV] random_state=42, n_jobs=1, n_estimators=200, min_samples_split=10, min_samples_leaf=2, max_features=sqrt, max_depth=50, bootstrap=True \n",
      "[CV]  random_state=42, n_jobs=1, n_estimators=200, min_samples_split=10, min_samples_leaf=2, max_features=sqrt, max_depth=50, bootstrap=True, total=   0.4s\n",
      "[CV] random_state=42, n_jobs=1, n_estimators=600, min_samples_split=10, min_samples_leaf=4, max_features=sqrt, max_depth=90, bootstrap=False \n",
      "[CV]  random_state=42, n_jobs=1, n_estimators=600, min_samples_split=10, min_samples_leaf=4, max_features=sqrt, max_depth=90, bootstrap=False, total=   1.1s\n",
      "[CV] random_state=42, n_jobs=1, n_estimators=600, min_samples_split=10, min_samples_leaf=4, max_features=sqrt, max_depth=90, bootstrap=False \n",
      "[CV]  random_state=42, n_jobs=1, n_estimators=600, min_samples_split=10, min_samples_leaf=4, max_features=sqrt, max_depth=90, bootstrap=False, total=   1.1s\n",
      "[CV] random_state=42, n_jobs=1, n_estimators=600, min_samples_split=10, min_samples_leaf=4, max_features=sqrt, max_depth=90, bootstrap=False \n",
      "[CV]  random_state=42, n_jobs=1, n_estimators=600, min_samples_split=10, min_samples_leaf=4, max_features=sqrt, max_depth=90, bootstrap=False, total=   1.1s\n",
      "[CV] random_state=42, n_jobs=1, n_estimators=600, min_samples_split=2, min_samples_leaf=2, max_features=auto, max_depth=60, bootstrap=False \n",
      "[CV]  random_state=42, n_jobs=1, n_estimators=600, min_samples_split=2, min_samples_leaf=2, max_features=auto, max_depth=60, bootstrap=False, total=   1.1s\n",
      "[CV] random_state=42, n_jobs=1, n_estimators=600, min_samples_split=2, min_samples_leaf=2, max_features=auto, max_depth=60, bootstrap=False \n",
      "[CV]  random_state=42, n_jobs=1, n_estimators=600, min_samples_split=2, min_samples_leaf=2, max_features=auto, max_depth=60, bootstrap=False, total=   1.1s\n",
      "[CV] random_state=42, n_jobs=1, n_estimators=600, min_samples_split=2, min_samples_leaf=2, max_features=auto, max_depth=60, bootstrap=False \n",
      "[CV]  random_state=42, n_jobs=1, n_estimators=600, min_samples_split=2, min_samples_leaf=2, max_features=auto, max_depth=60, bootstrap=False, total=   1.2s\n",
      "[CV] random_state=42, n_jobs=1, n_estimators=1400, min_samples_split=5, min_samples_leaf=1, max_features=sqrt, max_depth=30, bootstrap=True \n",
      "[CV]  random_state=42, n_jobs=1, n_estimators=1400, min_samples_split=5, min_samples_leaf=1, max_features=sqrt, max_depth=30, bootstrap=True, total=   2.7s\n",
      "[CV] random_state=42, n_jobs=1, n_estimators=1400, min_samples_split=5, min_samples_leaf=1, max_features=sqrt, max_depth=30, bootstrap=True \n",
      "[CV]  random_state=42, n_jobs=1, n_estimators=1400, min_samples_split=5, min_samples_leaf=1, max_features=sqrt, max_depth=30, bootstrap=True, total=   2.7s\n",
      "[CV] random_state=42, n_jobs=1, n_estimators=1400, min_samples_split=5, min_samples_leaf=1, max_features=sqrt, max_depth=30, bootstrap=True \n",
      "[CV]  random_state=42, n_jobs=1, n_estimators=1400, min_samples_split=5, min_samples_leaf=1, max_features=sqrt, max_depth=30, bootstrap=True, total=   2.7s\n",
      "[CV] random_state=42, n_jobs=1, n_estimators=1000, min_samples_split=10, min_samples_leaf=1, max_features=auto, max_depth=80, bootstrap=False \n",
      "[CV]  random_state=42, n_jobs=1, n_estimators=1000, min_samples_split=10, min_samples_leaf=1, max_features=auto, max_depth=80, bootstrap=False, total=   2.1s\n",
      "[CV] random_state=42, n_jobs=1, n_estimators=1000, min_samples_split=10, min_samples_leaf=1, max_features=auto, max_depth=80, bootstrap=False \n",
      "[CV]  random_state=42, n_jobs=1, n_estimators=1000, min_samples_split=10, min_samples_leaf=1, max_features=auto, max_depth=80, bootstrap=False, total=   1.8s\n",
      "[CV] random_state=42, n_jobs=1, n_estimators=1000, min_samples_split=10, min_samples_leaf=1, max_features=auto, max_depth=80, bootstrap=False \n",
      "[CV]  random_state=42, n_jobs=1, n_estimators=1000, min_samples_split=10, min_samples_leaf=1, max_features=auto, max_depth=80, bootstrap=False, total=   2.2s\n",
      "[CV] random_state=42, n_jobs=1, n_estimators=400, min_samples_split=10, min_samples_leaf=1, max_features=sqrt, max_depth=60, bootstrap=False \n",
      "[CV]  random_state=42, n_jobs=1, n_estimators=400, min_samples_split=10, min_samples_leaf=1, max_features=sqrt, max_depth=60, bootstrap=False, total=   0.9s\n",
      "[CV] random_state=42, n_jobs=1, n_estimators=400, min_samples_split=10, min_samples_leaf=1, max_features=sqrt, max_depth=60, bootstrap=False \n",
      "[CV]  random_state=42, n_jobs=1, n_estimators=400, min_samples_split=10, min_samples_leaf=1, max_features=sqrt, max_depth=60, bootstrap=False, total=   0.8s\n",
      "[CV] random_state=42, n_jobs=1, n_estimators=400, min_samples_split=10, min_samples_leaf=1, max_features=sqrt, max_depth=60, bootstrap=False \n",
      "[CV]  random_state=42, n_jobs=1, n_estimators=400, min_samples_split=10, min_samples_leaf=1, max_features=sqrt, max_depth=60, bootstrap=False, total=   0.8s\n",
      "[CV] random_state=42, n_jobs=1, n_estimators=2000, min_samples_split=2, min_samples_leaf=2, max_features=auto, max_depth=50, bootstrap=False \n",
      "[CV]  random_state=42, n_jobs=1, n_estimators=2000, min_samples_split=2, min_samples_leaf=2, max_features=auto, max_depth=50, bootstrap=False, total=   3.9s\n",
      "[CV] random_state=42, n_jobs=1, n_estimators=2000, min_samples_split=2, min_samples_leaf=2, max_features=auto, max_depth=50, bootstrap=False \n",
      "[CV]  random_state=42, n_jobs=1, n_estimators=2000, min_samples_split=2, min_samples_leaf=2, max_features=auto, max_depth=50, bootstrap=False, total=   3.9s\n",
      "[CV] random_state=42, n_jobs=1, n_estimators=2000, min_samples_split=2, min_samples_leaf=2, max_features=auto, max_depth=50, bootstrap=False \n",
      "[CV]  random_state=42, n_jobs=1, n_estimators=2000, min_samples_split=2, min_samples_leaf=2, max_features=auto, max_depth=50, bootstrap=False, total=   3.9s\n",
      "[CV] random_state=42, n_jobs=1, n_estimators=200, min_samples_split=5, min_samples_leaf=2, max_features=sqrt, max_depth=10, bootstrap=True \n",
      "[CV]  random_state=42, n_jobs=1, n_estimators=200, min_samples_split=5, min_samples_leaf=2, max_features=sqrt, max_depth=10, bootstrap=True, total=   0.5s\n",
      "[CV] random_state=42, n_jobs=1, n_estimators=200, min_samples_split=5, min_samples_leaf=2, max_features=sqrt, max_depth=10, bootstrap=True \n",
      "[CV]  random_state=42, n_jobs=1, n_estimators=200, min_samples_split=5, min_samples_leaf=2, max_features=sqrt, max_depth=10, bootstrap=True, total=   0.4s\n",
      "[CV] random_state=42, n_jobs=1, n_estimators=200, min_samples_split=5, min_samples_leaf=2, max_features=sqrt, max_depth=10, bootstrap=True \n",
      "[CV]  random_state=42, n_jobs=1, n_estimators=200, min_samples_split=5, min_samples_leaf=2, max_features=sqrt, max_depth=10, bootstrap=True, total=   0.4s\n",
      "[CV] random_state=42, n_jobs=1, n_estimators=1200, min_samples_split=2, min_samples_leaf=4, max_features=auto, max_depth=100, bootstrap=True \n",
      "[CV]  random_state=42, n_jobs=1, n_estimators=1200, min_samples_split=2, min_samples_leaf=4, max_features=auto, max_depth=100, bootstrap=True, total=   2.2s\n",
      "[CV] random_state=42, n_jobs=1, n_estimators=1200, min_samples_split=2, min_samples_leaf=4, max_features=auto, max_depth=100, bootstrap=True \n",
      "[CV]  random_state=42, n_jobs=1, n_estimators=1200, min_samples_split=2, min_samples_leaf=4, max_features=auto, max_depth=100, bootstrap=True, total=   2.2s\n",
      "[CV] random_state=42, n_jobs=1, n_estimators=1200, min_samples_split=2, min_samples_leaf=4, max_features=auto, max_depth=100, bootstrap=True \n",
      "[CV]  random_state=42, n_jobs=1, n_estimators=1200, min_samples_split=2, min_samples_leaf=4, max_features=auto, max_depth=100, bootstrap=True, total=   2.3s\n",
      "[CV] random_state=42, n_jobs=1, n_estimators=2000, min_samples_split=5, min_samples_leaf=2, max_features=auto, max_depth=50, bootstrap=True \n",
      "[CV]  random_state=42, n_jobs=1, n_estimators=2000, min_samples_split=5, min_samples_leaf=2, max_features=auto, max_depth=50, bootstrap=True, total=   3.9s\n",
      "[CV] random_state=42, n_jobs=1, n_estimators=2000, min_samples_split=5, min_samples_leaf=2, max_features=auto, max_depth=50, bootstrap=True \n",
      "[CV]  random_state=42, n_jobs=1, n_estimators=2000, min_samples_split=5, min_samples_leaf=2, max_features=auto, max_depth=50, bootstrap=True, total=   3.8s\n",
      "[CV] random_state=42, n_jobs=1, n_estimators=2000, min_samples_split=5, min_samples_leaf=2, max_features=auto, max_depth=50, bootstrap=True \n"
     ]
    },
    {
     "name": "stdout",
     "output_type": "stream",
     "text": [
      "[CV]  random_state=42, n_jobs=1, n_estimators=2000, min_samples_split=5, min_samples_leaf=2, max_features=auto, max_depth=50, bootstrap=True, total=   3.8s\n",
      "[CV] random_state=42, n_jobs=1, n_estimators=400, min_samples_split=10, min_samples_leaf=2, max_features=auto, max_depth=20, bootstrap=False \n",
      "[CV]  random_state=42, n_jobs=1, n_estimators=400, min_samples_split=10, min_samples_leaf=2, max_features=auto, max_depth=20, bootstrap=False, total=   0.8s\n",
      "[CV] random_state=42, n_jobs=1, n_estimators=400, min_samples_split=10, min_samples_leaf=2, max_features=auto, max_depth=20, bootstrap=False \n",
      "[CV]  random_state=42, n_jobs=1, n_estimators=400, min_samples_split=10, min_samples_leaf=2, max_features=auto, max_depth=20, bootstrap=False, total=   0.7s\n",
      "[CV] random_state=42, n_jobs=1, n_estimators=400, min_samples_split=10, min_samples_leaf=2, max_features=auto, max_depth=20, bootstrap=False \n",
      "[CV]  random_state=42, n_jobs=1, n_estimators=400, min_samples_split=10, min_samples_leaf=2, max_features=auto, max_depth=20, bootstrap=False, total=   0.8s\n",
      "[CV] random_state=42, n_jobs=1, n_estimators=800, min_samples_split=2, min_samples_leaf=1, max_features=sqrt, max_depth=20, bootstrap=False \n",
      "[CV]  random_state=42, n_jobs=1, n_estimators=800, min_samples_split=2, min_samples_leaf=1, max_features=sqrt, max_depth=20, bootstrap=False, total=   1.6s\n",
      "[CV] random_state=42, n_jobs=1, n_estimators=800, min_samples_split=2, min_samples_leaf=1, max_features=sqrt, max_depth=20, bootstrap=False \n",
      "[CV]  random_state=42, n_jobs=1, n_estimators=800, min_samples_split=2, min_samples_leaf=1, max_features=sqrt, max_depth=20, bootstrap=False, total=   1.8s\n",
      "[CV] random_state=42, n_jobs=1, n_estimators=800, min_samples_split=2, min_samples_leaf=1, max_features=sqrt, max_depth=20, bootstrap=False \n",
      "[CV]  random_state=42, n_jobs=1, n_estimators=800, min_samples_split=2, min_samples_leaf=1, max_features=sqrt, max_depth=20, bootstrap=False, total=   2.6s\n",
      "[CV] random_state=42, n_jobs=1, n_estimators=1000, min_samples_split=5, min_samples_leaf=1, max_features=sqrt, max_depth=70, bootstrap=True \n",
      "[CV]  random_state=42, n_jobs=1, n_estimators=1000, min_samples_split=5, min_samples_leaf=1, max_features=sqrt, max_depth=70, bootstrap=True, total=   3.1s\n",
      "[CV] random_state=42, n_jobs=1, n_estimators=1000, min_samples_split=5, min_samples_leaf=1, max_features=sqrt, max_depth=70, bootstrap=True \n",
      "[CV]  random_state=42, n_jobs=1, n_estimators=1000, min_samples_split=5, min_samples_leaf=1, max_features=sqrt, max_depth=70, bootstrap=True, total=   3.1s\n",
      "[CV] random_state=42, n_jobs=1, n_estimators=1000, min_samples_split=5, min_samples_leaf=1, max_features=sqrt, max_depth=70, bootstrap=True \n",
      "[CV]  random_state=42, n_jobs=1, n_estimators=1000, min_samples_split=5, min_samples_leaf=1, max_features=sqrt, max_depth=70, bootstrap=True, total=   2.9s\n",
      "[CV] random_state=42, n_jobs=1, n_estimators=1200, min_samples_split=10, min_samples_leaf=2, max_features=sqrt, max_depth=70, bootstrap=False \n",
      "[CV]  random_state=42, n_jobs=1, n_estimators=1200, min_samples_split=10, min_samples_leaf=2, max_features=sqrt, max_depth=70, bootstrap=False, total=   3.9s\n",
      "[CV] random_state=42, n_jobs=1, n_estimators=1200, min_samples_split=10, min_samples_leaf=2, max_features=sqrt, max_depth=70, bootstrap=False \n",
      "[CV]  random_state=42, n_jobs=1, n_estimators=1200, min_samples_split=10, min_samples_leaf=2, max_features=sqrt, max_depth=70, bootstrap=False, total=   3.2s\n",
      "[CV] random_state=42, n_jobs=1, n_estimators=1200, min_samples_split=10, min_samples_leaf=2, max_features=sqrt, max_depth=70, bootstrap=False \n",
      "[CV]  random_state=42, n_jobs=1, n_estimators=1200, min_samples_split=10, min_samples_leaf=2, max_features=sqrt, max_depth=70, bootstrap=False, total=   2.6s\n",
      "[CV] random_state=42, n_jobs=1, n_estimators=1600, min_samples_split=2, min_samples_leaf=4, max_features=sqrt, max_depth=110, bootstrap=False \n",
      "[CV]  random_state=42, n_jobs=1, n_estimators=1600, min_samples_split=2, min_samples_leaf=4, max_features=sqrt, max_depth=110, bootstrap=False, total=   3.3s\n",
      "[CV] random_state=42, n_jobs=1, n_estimators=1600, min_samples_split=2, min_samples_leaf=4, max_features=sqrt, max_depth=110, bootstrap=False \n",
      "[CV]  random_state=42, n_jobs=1, n_estimators=1600, min_samples_split=2, min_samples_leaf=4, max_features=sqrt, max_depth=110, bootstrap=False, total=   3.3s\n",
      "[CV] random_state=42, n_jobs=1, n_estimators=1600, min_samples_split=2, min_samples_leaf=4, max_features=sqrt, max_depth=110, bootstrap=False \n",
      "[CV]  random_state=42, n_jobs=1, n_estimators=1600, min_samples_split=2, min_samples_leaf=4, max_features=sqrt, max_depth=110, bootstrap=False, total=   3.4s\n",
      "[CV] random_state=42, n_jobs=1, n_estimators=1000, min_samples_split=10, min_samples_leaf=1, max_features=auto, max_depth=50, bootstrap=False \n",
      "[CV]  random_state=42, n_jobs=1, n_estimators=1000, min_samples_split=10, min_samples_leaf=1, max_features=auto, max_depth=50, bootstrap=False, total=   2.1s\n",
      "[CV] random_state=42, n_jobs=1, n_estimators=1000, min_samples_split=10, min_samples_leaf=1, max_features=auto, max_depth=50, bootstrap=False \n",
      "[CV]  random_state=42, n_jobs=1, n_estimators=1000, min_samples_split=10, min_samples_leaf=1, max_features=auto, max_depth=50, bootstrap=False, total=   2.0s\n",
      "[CV] random_state=42, n_jobs=1, n_estimators=1000, min_samples_split=10, min_samples_leaf=1, max_features=auto, max_depth=50, bootstrap=False \n",
      "[CV]  random_state=42, n_jobs=1, n_estimators=1000, min_samples_split=10, min_samples_leaf=1, max_features=auto, max_depth=50, bootstrap=False, total=   2.3s\n",
      "[CV] random_state=42, n_jobs=1, n_estimators=1000, min_samples_split=10, min_samples_leaf=1, max_features=sqrt, max_depth=30, bootstrap=True \n",
      "[CV]  random_state=42, n_jobs=1, n_estimators=1000, min_samples_split=10, min_samples_leaf=1, max_features=sqrt, max_depth=30, bootstrap=True, total=   2.2s\n",
      "[CV] random_state=42, n_jobs=1, n_estimators=1000, min_samples_split=10, min_samples_leaf=1, max_features=sqrt, max_depth=30, bootstrap=True \n",
      "[CV]  random_state=42, n_jobs=1, n_estimators=1000, min_samples_split=10, min_samples_leaf=1, max_features=sqrt, max_depth=30, bootstrap=True, total=   2.1s\n",
      "[CV] random_state=42, n_jobs=1, n_estimators=1000, min_samples_split=10, min_samples_leaf=1, max_features=sqrt, max_depth=30, bootstrap=True \n",
      "[CV]  random_state=42, n_jobs=1, n_estimators=1000, min_samples_split=10, min_samples_leaf=1, max_features=sqrt, max_depth=30, bootstrap=True, total=   2.2s\n",
      "[CV] random_state=42, n_jobs=1, n_estimators=600, min_samples_split=2, min_samples_leaf=1, max_features=auto, max_depth=70, bootstrap=True \n",
      "[CV]  random_state=42, n_jobs=1, n_estimators=600, min_samples_split=2, min_samples_leaf=1, max_features=auto, max_depth=70, bootstrap=True, total=   1.4s\n",
      "[CV] random_state=42, n_jobs=1, n_estimators=600, min_samples_split=2, min_samples_leaf=1, max_features=auto, max_depth=70, bootstrap=True \n",
      "[CV]  random_state=42, n_jobs=1, n_estimators=600, min_samples_split=2, min_samples_leaf=1, max_features=auto, max_depth=70, bootstrap=True, total=   1.3s\n",
      "[CV] random_state=42, n_jobs=1, n_estimators=600, min_samples_split=2, min_samples_leaf=1, max_features=auto, max_depth=70, bootstrap=True \n",
      "[CV]  random_state=42, n_jobs=1, n_estimators=600, min_samples_split=2, min_samples_leaf=1, max_features=auto, max_depth=70, bootstrap=True, total=   1.4s\n",
      "[CV] random_state=42, n_jobs=1, n_estimators=1800, min_samples_split=2, min_samples_leaf=2, max_features=auto, max_depth=30, bootstrap=False \n",
      "[CV]  random_state=42, n_jobs=1, n_estimators=1800, min_samples_split=2, min_samples_leaf=2, max_features=auto, max_depth=30, bootstrap=False, total=   3.7s\n",
      "[CV] random_state=42, n_jobs=1, n_estimators=1800, min_samples_split=2, min_samples_leaf=2, max_features=auto, max_depth=30, bootstrap=False \n",
      "[CV]  random_state=42, n_jobs=1, n_estimators=1800, min_samples_split=2, min_samples_leaf=2, max_features=auto, max_depth=30, bootstrap=False, total=   3.7s\n",
      "[CV] random_state=42, n_jobs=1, n_estimators=1800, min_samples_split=2, min_samples_leaf=2, max_features=auto, max_depth=30, bootstrap=False \n",
      "[CV]  random_state=42, n_jobs=1, n_estimators=1800, min_samples_split=2, min_samples_leaf=2, max_features=auto, max_depth=30, bootstrap=False, total=   3.8s\n",
      "[CV] random_state=42, n_jobs=1, n_estimators=1600, min_samples_split=2, min_samples_leaf=4, max_features=auto, max_depth=None, bootstrap=True \n"
     ]
    },
    {
     "name": "stdout",
     "output_type": "stream",
     "text": [
      "[CV]  random_state=42, n_jobs=1, n_estimators=1600, min_samples_split=2, min_samples_leaf=4, max_features=auto, max_depth=None, bootstrap=True, total=   3.0s\n",
      "[CV] random_state=42, n_jobs=1, n_estimators=1600, min_samples_split=2, min_samples_leaf=4, max_features=auto, max_depth=None, bootstrap=True \n",
      "[CV]  random_state=42, n_jobs=1, n_estimators=1600, min_samples_split=2, min_samples_leaf=4, max_features=auto, max_depth=None, bootstrap=True, total=   3.0s\n",
      "[CV] random_state=42, n_jobs=1, n_estimators=1600, min_samples_split=2, min_samples_leaf=4, max_features=auto, max_depth=None, bootstrap=True \n",
      "[CV]  random_state=42, n_jobs=1, n_estimators=1600, min_samples_split=2, min_samples_leaf=4, max_features=auto, max_depth=None, bootstrap=True, total=   3.0s\n",
      "[CV] random_state=42, n_jobs=1, n_estimators=1600, min_samples_split=5, min_samples_leaf=2, max_features=auto, max_depth=40, bootstrap=False \n",
      "[CV]  random_state=42, n_jobs=1, n_estimators=1600, min_samples_split=5, min_samples_leaf=2, max_features=auto, max_depth=40, bootstrap=False, total=   3.0s\n",
      "[CV] random_state=42, n_jobs=1, n_estimators=1600, min_samples_split=5, min_samples_leaf=2, max_features=auto, max_depth=40, bootstrap=False \n",
      "[CV]  random_state=42, n_jobs=1, n_estimators=1600, min_samples_split=5, min_samples_leaf=2, max_features=auto, max_depth=40, bootstrap=False, total=   2.9s\n",
      "[CV] random_state=42, n_jobs=1, n_estimators=1600, min_samples_split=5, min_samples_leaf=2, max_features=auto, max_depth=40, bootstrap=False \n",
      "[CV]  random_state=42, n_jobs=1, n_estimators=1600, min_samples_split=5, min_samples_leaf=2, max_features=auto, max_depth=40, bootstrap=False, total=   3.0s\n",
      "[CV] random_state=42, n_jobs=1, n_estimators=1200, min_samples_split=5, min_samples_leaf=4, max_features=auto, max_depth=60, bootstrap=True \n",
      "[CV]  random_state=42, n_jobs=1, n_estimators=1200, min_samples_split=5, min_samples_leaf=4, max_features=auto, max_depth=60, bootstrap=True, total=   2.3s\n",
      "[CV] random_state=42, n_jobs=1, n_estimators=1200, min_samples_split=5, min_samples_leaf=4, max_features=auto, max_depth=60, bootstrap=True \n",
      "[CV]  random_state=42, n_jobs=1, n_estimators=1200, min_samples_split=5, min_samples_leaf=4, max_features=auto, max_depth=60, bootstrap=True, total=   2.2s\n",
      "[CV] random_state=42, n_jobs=1, n_estimators=1200, min_samples_split=5, min_samples_leaf=4, max_features=auto, max_depth=60, bootstrap=True \n",
      "[CV]  random_state=42, n_jobs=1, n_estimators=1200, min_samples_split=5, min_samples_leaf=4, max_features=auto, max_depth=60, bootstrap=True, total=   2.3s\n",
      "[CV] random_state=42, n_jobs=1, n_estimators=1400, min_samples_split=2, min_samples_leaf=1, max_features=auto, max_depth=110, bootstrap=True \n",
      "[CV]  random_state=42, n_jobs=1, n_estimators=1400, min_samples_split=2, min_samples_leaf=1, max_features=auto, max_depth=110, bootstrap=True, total=   2.7s\n",
      "[CV] random_state=42, n_jobs=1, n_estimators=1400, min_samples_split=2, min_samples_leaf=1, max_features=auto, max_depth=110, bootstrap=True \n",
      "[CV]  random_state=42, n_jobs=1, n_estimators=1400, min_samples_split=2, min_samples_leaf=1, max_features=auto, max_depth=110, bootstrap=True, total=   2.8s\n",
      "[CV] random_state=42, n_jobs=1, n_estimators=1400, min_samples_split=2, min_samples_leaf=1, max_features=auto, max_depth=110, bootstrap=True \n",
      "[CV]  random_state=42, n_jobs=1, n_estimators=1400, min_samples_split=2, min_samples_leaf=1, max_features=auto, max_depth=110, bootstrap=True, total=   2.7s\n",
      "[CV] random_state=42, n_jobs=1, n_estimators=2000, min_samples_split=2, min_samples_leaf=1, max_features=auto, max_depth=20, bootstrap=True \n",
      "[CV]  random_state=42, n_jobs=1, n_estimators=2000, min_samples_split=2, min_samples_leaf=1, max_features=auto, max_depth=20, bootstrap=True, total=   4.0s\n",
      "[CV] random_state=42, n_jobs=1, n_estimators=2000, min_samples_split=2, min_samples_leaf=1, max_features=auto, max_depth=20, bootstrap=True \n",
      "[CV]  random_state=42, n_jobs=1, n_estimators=2000, min_samples_split=2, min_samples_leaf=1, max_features=auto, max_depth=20, bootstrap=True, total=   3.9s\n",
      "[CV] random_state=42, n_jobs=1, n_estimators=2000, min_samples_split=2, min_samples_leaf=1, max_features=auto, max_depth=20, bootstrap=True \n",
      "[CV]  random_state=42, n_jobs=1, n_estimators=2000, min_samples_split=2, min_samples_leaf=1, max_features=auto, max_depth=20, bootstrap=True, total=   3.9s\n",
      "[CV] random_state=42, n_jobs=1, n_estimators=1000, min_samples_split=2, min_samples_leaf=2, max_features=auto, max_depth=40, bootstrap=False \n",
      "[CV]  random_state=42, n_jobs=1, n_estimators=1000, min_samples_split=2, min_samples_leaf=2, max_features=auto, max_depth=40, bootstrap=False, total=   1.9s\n",
      "[CV] random_state=42, n_jobs=1, n_estimators=1000, min_samples_split=2, min_samples_leaf=2, max_features=auto, max_depth=40, bootstrap=False \n",
      "[CV]  random_state=42, n_jobs=1, n_estimators=1000, min_samples_split=2, min_samples_leaf=2, max_features=auto, max_depth=40, bootstrap=False, total=   1.9s\n",
      "[CV] random_state=42, n_jobs=1, n_estimators=1000, min_samples_split=2, min_samples_leaf=2, max_features=auto, max_depth=40, bootstrap=False \n",
      "[CV]  random_state=42, n_jobs=1, n_estimators=1000, min_samples_split=2, min_samples_leaf=2, max_features=auto, max_depth=40, bootstrap=False, total=   1.9s\n",
      "[CV] random_state=42, n_jobs=1, n_estimators=1200, min_samples_split=2, min_samples_leaf=2, max_features=sqrt, max_depth=50, bootstrap=False \n",
      "[CV]  random_state=42, n_jobs=1, n_estimators=1200, min_samples_split=2, min_samples_leaf=2, max_features=sqrt, max_depth=50, bootstrap=False, total=   2.3s\n",
      "[CV] random_state=42, n_jobs=1, n_estimators=1200, min_samples_split=2, min_samples_leaf=2, max_features=sqrt, max_depth=50, bootstrap=False \n",
      "[CV]  random_state=42, n_jobs=1, n_estimators=1200, min_samples_split=2, min_samples_leaf=2, max_features=sqrt, max_depth=50, bootstrap=False, total=   2.2s\n",
      "[CV] random_state=42, n_jobs=1, n_estimators=1200, min_samples_split=2, min_samples_leaf=2, max_features=sqrt, max_depth=50, bootstrap=False \n",
      "[CV]  random_state=42, n_jobs=1, n_estimators=1200, min_samples_split=2, min_samples_leaf=2, max_features=sqrt, max_depth=50, bootstrap=False, total=   2.3s\n",
      "[CV] random_state=42, n_jobs=1, n_estimators=2000, min_samples_split=2, min_samples_leaf=1, max_features=sqrt, max_depth=110, bootstrap=True \n",
      "[CV]  random_state=42, n_jobs=1, n_estimators=2000, min_samples_split=2, min_samples_leaf=1, max_features=sqrt, max_depth=110, bootstrap=True, total=   3.9s\n",
      "[CV] random_state=42, n_jobs=1, n_estimators=2000, min_samples_split=2, min_samples_leaf=1, max_features=sqrt, max_depth=110, bootstrap=True \n",
      "[CV]  random_state=42, n_jobs=1, n_estimators=2000, min_samples_split=2, min_samples_leaf=1, max_features=sqrt, max_depth=110, bootstrap=True, total=   3.8s\n",
      "[CV] random_state=42, n_jobs=1, n_estimators=2000, min_samples_split=2, min_samples_leaf=1, max_features=sqrt, max_depth=110, bootstrap=True \n",
      "[CV]  random_state=42, n_jobs=1, n_estimators=2000, min_samples_split=2, min_samples_leaf=1, max_features=sqrt, max_depth=110, bootstrap=True, total=   3.9s\n",
      "[CV] random_state=42, n_jobs=1, n_estimators=1600, min_samples_split=2, min_samples_leaf=1, max_features=auto, max_depth=80, bootstrap=True \n",
      "[CV]  random_state=42, n_jobs=1, n_estimators=1600, min_samples_split=2, min_samples_leaf=1, max_features=auto, max_depth=80, bootstrap=True, total=   3.1s\n",
      "[CV] random_state=42, n_jobs=1, n_estimators=1600, min_samples_split=2, min_samples_leaf=1, max_features=auto, max_depth=80, bootstrap=True \n",
      "[CV]  random_state=42, n_jobs=1, n_estimators=1600, min_samples_split=2, min_samples_leaf=1, max_features=auto, max_depth=80, bootstrap=True, total=   3.2s\n",
      "[CV] random_state=42, n_jobs=1, n_estimators=1600, min_samples_split=2, min_samples_leaf=1, max_features=auto, max_depth=80, bootstrap=True \n",
      "[CV]  random_state=42, n_jobs=1, n_estimators=1600, min_samples_split=2, min_samples_leaf=1, max_features=auto, max_depth=80, bootstrap=True, total=   3.1s\n",
      "[CV] random_state=42, n_jobs=1, n_estimators=1800, min_samples_split=10, min_samples_leaf=4, max_features=auto, max_depth=90, bootstrap=True \n",
      "[CV]  random_state=42, n_jobs=1, n_estimators=1800, min_samples_split=10, min_samples_leaf=4, max_features=auto, max_depth=90, bootstrap=True, total=   3.3s\n",
      "[CV] random_state=42, n_jobs=1, n_estimators=1800, min_samples_split=10, min_samples_leaf=4, max_features=auto, max_depth=90, bootstrap=True \n"
     ]
    },
    {
     "name": "stdout",
     "output_type": "stream",
     "text": [
      "[CV]  random_state=42, n_jobs=1, n_estimators=1800, min_samples_split=10, min_samples_leaf=4, max_features=auto, max_depth=90, bootstrap=True, total=   3.4s\n",
      "[CV] random_state=42, n_jobs=1, n_estimators=1800, min_samples_split=10, min_samples_leaf=4, max_features=auto, max_depth=90, bootstrap=True \n",
      "[CV]  random_state=42, n_jobs=1, n_estimators=1800, min_samples_split=10, min_samples_leaf=4, max_features=auto, max_depth=90, bootstrap=True, total=   3.3s\n",
      "[CV] random_state=42, n_jobs=1, n_estimators=600, min_samples_split=10, min_samples_leaf=2, max_features=sqrt, max_depth=60, bootstrap=False \n",
      "[CV]  random_state=42, n_jobs=1, n_estimators=600, min_samples_split=10, min_samples_leaf=2, max_features=sqrt, max_depth=60, bootstrap=False, total=   1.1s\n",
      "[CV] random_state=42, n_jobs=1, n_estimators=600, min_samples_split=10, min_samples_leaf=2, max_features=sqrt, max_depth=60, bootstrap=False \n",
      "[CV]  random_state=42, n_jobs=1, n_estimators=600, min_samples_split=10, min_samples_leaf=2, max_features=sqrt, max_depth=60, bootstrap=False, total=   1.1s\n",
      "[CV] random_state=42, n_jobs=1, n_estimators=600, min_samples_split=10, min_samples_leaf=2, max_features=sqrt, max_depth=60, bootstrap=False \n",
      "[CV]  random_state=42, n_jobs=1, n_estimators=600, min_samples_split=10, min_samples_leaf=2, max_features=sqrt, max_depth=60, bootstrap=False, total=   1.2s\n"
     ]
    },
    {
     "name": "stderr",
     "output_type": "stream",
     "text": [
      "[Parallel(n_jobs=1)]: Done  90 out of  90 | elapsed:  3.6min finished\n"
     ]
    },
    {
     "data": {
      "text/plain": [
       "RandomizedSearchCV(cv=3, estimator=RandomForestClassifier(), n_iter=30,\n",
       "                   n_jobs=1,\n",
       "                   param_distributions={'bootstrap': [True, False],\n",
       "                                        'max_depth': [10, 20, 30, 40, 50, 60,\n",
       "                                                      70, 80, 90, 100, 110,\n",
       "                                                      None],\n",
       "                                        'max_features': ['auto', 'sqrt'],\n",
       "                                        'min_samples_leaf': [1, 2, 4],\n",
       "                                        'min_samples_split': [2, 5, 10],\n",
       "                                        'n_estimators': [200, 400, 600, 800,\n",
       "                                                         1000, 1200, 1400, 1600,\n",
       "                                                         1800, 2000],\n",
       "                                        'n_jobs': [1], 'random_state': [42]},\n",
       "                   random_state=42, verbose=2)"
      ]
     },
     "execution_count": 27,
     "metadata": {},
     "output_type": "execute_result"
    }
   ],
   "source": [
    "# Use the random grid to search for best hyperparameters\n",
    "# First create the base model to tune\n",
    "rf = RandomForestClassifier()\n",
    "# Random search of parameters, using 3 fold cross validation, \n",
    "# search across 100 different combinations, and use all available cores\n",
    "rf_random = RandomizedSearchCV(estimator = rf, param_distributions = random_grid, n_iter = 30, cv = 3, verbose=2, random_state=42, n_jobs = 1)\n",
    "# Fit the random search model\n",
    "rf_random.fit(X_train, y_train)"
   ]
  },
  {
   "cell_type": "code",
   "execution_count": 28,
   "metadata": {},
   "outputs": [
    {
     "data": {
      "text/plain": [
       "{'random_state': 42,\n",
       " 'n_jobs': 1,\n",
       " 'n_estimators': 200,\n",
       " 'min_samples_split': 10,\n",
       " 'min_samples_leaf': 2,\n",
       " 'max_features': 'sqrt',\n",
       " 'max_depth': 50,\n",
       " 'bootstrap': True}"
      ]
     },
     "execution_count": 28,
     "metadata": {},
     "output_type": "execute_result"
    }
   ],
   "source": [
    "rf_best_params = rf_random.best_params_\n",
    "rf_best_params"
   ]
  },
  {
   "cell_type": "markdown",
   "metadata": {},
   "source": [
    "# Random Forest Model Training with Tuned Hyperparameters"
   ]
  },
  {
   "cell_type": "code",
   "execution_count": 29,
   "metadata": {},
   "outputs": [],
   "source": [
    "forest_model = RandomForestClassifier(n_estimators = rf_best_params['n_estimators'], \n",
    "                                      min_samples_split = rf_best_params['min_samples_split'], \n",
    "                                      min_samples_leaf = rf_best_params['min_samples_leaf'], \n",
    "                                      max_features = rf_best_params['max_features'], \n",
    "                                      max_depth = rf_best_params['max_depth'], \n",
    "                                      bootstrap = rf_best_params['bootstrap'],\n",
    "                                      random_state = 42,\n",
    "                                      n_jobs = 1\n",
    "                                     )\n",
    "\n",
    "\n",
    "fitted = forest_model.fit(X_train, y_train)\n",
    "rf_predictions_test = fitted.predict(X_test)\n",
    "rf_predictions_train = fitted.predict(X_train)"
   ]
  },
  {
   "cell_type": "code",
   "execution_count": 30,
   "metadata": {},
   "outputs": [
    {
     "name": "stdout",
     "output_type": "stream",
     "text": [
      "training accuracy for random forest: \n"
     ]
    },
    {
     "data": {
      "text/plain": [
       "0.9426166794185157"
      ]
     },
     "execution_count": 30,
     "metadata": {},
     "output_type": "execute_result"
    }
   ],
   "source": [
    "print('training accuracy for random forest: ')\n",
    "np.mean(y_train == rf_predictions_train)"
   ]
  },
  {
   "cell_type": "code",
   "execution_count": 31,
   "metadata": {},
   "outputs": [
    {
     "name": "stdout",
     "output_type": "stream",
     "text": [
      "test accuracy for random forest: \n"
     ]
    },
    {
     "data": {
      "text/plain": [
       "0.8394495412844036"
      ]
     },
     "execution_count": 31,
     "metadata": {},
     "output_type": "execute_result"
    }
   ],
   "source": [
    "print('test accuracy for random forest: ')\n",
    "np.mean(y_test == rf_predictions_test)"
   ]
  },
  {
   "cell_type": "markdown",
   "metadata": {},
   "source": [
    "# Validation for Tuned Random Forest Model"
   ]
  },
  {
   "cell_type": "code",
   "execution_count": 32,
   "metadata": {},
   "outputs": [
    {
     "name": "stdout",
     "output_type": "stream",
     "text": [
      "precision: 0.8189300411522633\n",
      "recall: 0.8844444444444445\n"
     ]
    }
   ],
   "source": [
    "confusion_matrix_rf = metrics.confusion_matrix(y_test, rf_predictions_test, normalize = 'all')\n",
    "precision_rf = confusion_matrix_rf[1][1] / (confusion_matrix_rf[1][1] + confusion_matrix_rf[0][1])\n",
    "recall_rf = confusion_matrix_rf[1][1] / (confusion_matrix_rf[1][1] + confusion_matrix_rf[1][0])\n",
    "print('precision: ' + str(precision_rf))\n",
    "print('recall: ' + str(recall_rf))"
   ]
  },
  {
   "cell_type": "code",
   "execution_count": 33,
   "metadata": {},
   "outputs": [
    {
     "data": {
      "text/plain": [
       "(array([0.        , 0.20853081, 1.        ]),\n",
       " array([0.        , 0.88444444, 1.        ]),\n",
       " array([2, 1, 0]))"
      ]
     },
     "execution_count": 33,
     "metadata": {},
     "output_type": "execute_result"
    }
   ],
   "source": [
    "rf_fpr, rf_tpr, rf_thresholds = metrics.roc_curve(y_test, rf_predictions_test)\n",
    "rf_fpr, rf_tpr, rf_thresholds"
   ]
  },
  {
   "cell_type": "code",
   "execution_count": 34,
   "metadata": {},
   "outputs": [
    {
     "data": {
      "text/plain": [
       "[<matplotlib.lines.Line2D at 0x7fdd9d87b190>]"
      ]
     },
     "execution_count": 34,
     "metadata": {},
     "output_type": "execute_result"
    },
    {
     "data": {
      "image/png": "[encoded data removed]",
      "text/plain": [
       "<Figure size 432x288 with 1 Axes>"
      ]
     },
     "metadata": {
      "needs_background": "light"
     },
     "output_type": "display_data"
    }
   ],
   "source": [
    "plt.xlabel('FPR')\n",
    "plt.ylabel('TPR')\n",
    "plt.title('ROC Curve for the Random Forest Model')\n",
    "plt.plot(rf_fpr, rf_tpr)"
   ]
  },
  {
   "cell_type": "markdown",
   "metadata": {},
   "source": [
    "# Confidence Interval Visualization for Tuned Random Forest"
   ]
  },
  {
   "cell_type": "code",
   "execution_count": 35,
   "metadata": {},
   "outputs": [],
   "source": [
    "def mean_confidence_interval(data, confidence=0.95):\n",
    "    a = 1.0 * np.array(data)\n",
    "    n = len(a)\n",
    "    m, se = np.mean(a), scipy.stats.sem(a)\n",
    "    h = se * scipy.stats.t.ppf((1 + confidence) / 2., n-1)\n",
    "    return m, m-h, m+h"
   ]
  },
  {
   "cell_type": "code",
   "execution_count": 36,
   "metadata": {},
   "outputs": [],
   "source": [
    "train_accuracy = []\n",
    "test_accuracy = []\n",
    "for i in np.arange(100):\n",
    "    #print(i)\n",
    "    rf_model = RandomForestClassifier(n_estimators = rf_best_params['n_estimators'], \n",
    "                                      min_samples_split = rf_best_params['min_samples_split'], \n",
    "                                      min_samples_leaf = rf_best_params['min_samples_leaf'], \n",
    "                                      max_features = rf_best_params['max_features'], \n",
    "                                      max_depth = rf_best_params['max_depth'], \n",
    "                                      bootstrap = rf_best_params['bootstrap'],\n",
    "                                      random_state = 42,\n",
    "                                      n_jobs = 1\n",
    "                                     )\n",
    "    \n",
    "    sample = pitching.sample(int(0.8 * len(pitching)))\n",
    "    s_train, s_test = train_test_split(sample)\n",
    "\n",
    "    s_X = s_train.drop(columns = ['playerID', 'yearID', 'teamID', 'is_all_star'])\n",
    "    s_y = s_train['is_all_star']\n",
    "    b_fitted = rf_model.fit(s_X, s_y)\n",
    "    rf_predictions_test = b_fitted.predict(s_test.drop(columns = ['playerID', 'yearID', 'teamID', 'is_all_star']))\n",
    "    rf_predictions_train = fitted.predict(s_X)\n",
    "    train_accuracy = np.append(train_accuracy, np.mean(s_train['is_all_star'].values == rf_predictions_train))\n",
    "    test_accuracy = np.append(test_accuracy, np.mean(s_test['is_all_star'].values == rf_predictions_test))\n",
    "\n",
    "mean_confidence_interval_train = mean_confidence_interval(train_accuracy)\n",
    "mean_confidence_interval_test = mean_confidence_interval(test_accuracy)"
   ]
  },
  {
   "cell_type": "code",
   "execution_count": 37,
   "metadata": {},
   "outputs": [
    {
     "data": {
      "text/plain": [
       "(array([ 2.,  0.,  3., 12., 14., 20., 26.,  6., 13.,  4.]),\n",
       " array([0.89952153, 0.90248804, 0.90545455, 0.90842105, 0.91138756,\n",
       "        0.91435407, 0.91732057, 0.92028708, 0.92325359, 0.9262201 ,\n",
       "        0.9291866 ]),\n",
       " <a list of 10 Patch objects>)"
      ]
     },
     "execution_count": 37,
     "metadata": {},
     "output_type": "execute_result"
    },
    {
     "data": {
      "image/png": "[encoded data removed]",
      "text/plain": [
       "<Figure size 960x320 with 1 Axes>"
      ]
     },
     "metadata": {
      "needs_background": "light"
     },
     "output_type": "display_data"
    }
   ],
   "source": [
    "figure(figsize=(12, 4), dpi=80)\n",
    "plt.xlabel('Train accuracy')\n",
    "plt.ylabel('frequency')\n",
    "plt.title('Training Accuracy of Random Forest Model for Predicting All-Star status from 100 samples')\n",
    "plt.hist(train_accuracy)"
   ]
  },
  {
   "cell_type": "code",
   "execution_count": 38,
   "metadata": {},
   "outputs": [
    {
     "data": {
      "text/plain": [
       "(array([ 3.,  8., 10., 13., 20., 14., 12.,  7., 12.,  1.]),\n",
       " array([0.81948424, 0.8269341 , 0.83438395, 0.84183381, 0.84928367,\n",
       "        0.85673352, 0.86418338, 0.87163324, 0.87908309, 0.88653295,\n",
       "        0.89398281]),\n",
       " <a list of 10 Patch objects>)"
      ]
     },
     "execution_count": 38,
     "metadata": {},
     "output_type": "execute_result"
    },
    {
     "data": {
      "image/png": "[encoded data removed]",
      "text/plain": [
       "<Figure size 960x320 with 1 Axes>"
      ]
     },
     "metadata": {
      "needs_background": "light"
     },
     "output_type": "display_data"
    }
   ],
   "source": [
    "figure(figsize=(12, 4), dpi=80)\n",
    "plt.xlabel('Test accuracy')\n",
    "plt.ylabel('frequency')\n",
    "plt.title('Testing Accuracy of Random Forest Model for Predicting All-Star status from 100 samples')\n",
    "plt.hist(test_accuracy)"
   ]
  },
  {
   "cell_type": "markdown",
   "metadata": {},
   "source": [
    "# Random Search Optimization for Tuned Logistic Regression"
   ]
  },
  {
   "cell_type": "code",
   "execution_count": 39,
   "metadata": {},
   "outputs": [],
   "source": [
    "solvers = ['newton-cg', 'lbfgs', 'liblinear']\n",
    "penalty = ['l2']\n",
    "c_values = [100, 10, 1.0, 0.1, 0.01]\n",
    "\n",
    "random_grid = {'solver': solvers,\n",
    "               'penalty': penalty,\n",
    "               'C': c_values,\n",
    "               'max_iter': [2000],\n",
    "               'random_state': [42],\n",
    "               'n_jobs': [1]\n",
    "               }"
   ]
  },
  {
   "cell_type": "code",
   "execution_count": 40,
   "metadata": {},
   "outputs": [
    {
     "name": "stdout",
     "output_type": "stream",
     "text": [
      "Fitting 3 folds for each of 15 candidates, totalling 45 fits\n",
      "[CV] solver=newton-cg, random_state=42, penalty=l2, n_jobs=1, max_iter=2000, C=100 \n",
      "[CV]  solver=newton-cg, random_state=42, penalty=l2, n_jobs=1, max_iter=2000, C=100, total=   0.0s\n",
      "[CV] solver=newton-cg, random_state=42, penalty=l2, n_jobs=1, max_iter=2000, C=100 \n",
      "[CV]  solver=newton-cg, random_state=42, penalty=l2, n_jobs=1, max_iter=2000, C=100, total=   0.0s\n",
      "[CV] solver=newton-cg, random_state=42, penalty=l2, n_jobs=1, max_iter=2000, C=100 \n",
      "[CV]  solver=newton-cg, random_state=42, penalty=l2, n_jobs=1, max_iter=2000, C=100, total=   0.0s\n",
      "[CV] solver=lbfgs, random_state=42, penalty=l2, n_jobs=1, max_iter=2000, C=100 \n",
      "[CV]  solver=lbfgs, random_state=42, penalty=l2, n_jobs=1, max_iter=2000, C=100, total=   0.1s\n",
      "[CV] solver=lbfgs, random_state=42, penalty=l2, n_jobs=1, max_iter=2000, C=100 \n"
     ]
    },
    {
     "name": "stderr",
     "output_type": "stream",
     "text": [
      "[Parallel(n_jobs=1)]: Using backend SequentialBackend with 1 concurrent workers.\n",
      "[Parallel(n_jobs=1)]: Done   1 out of   1 | elapsed:    0.0s remaining:    0.0s\n"
     ]
    },
    {
     "name": "stdout",
     "output_type": "stream",
     "text": [
      "[CV]  solver=lbfgs, random_state=42, penalty=l2, n_jobs=1, max_iter=2000, C=100, total=   0.2s\n",
      "[CV] solver=lbfgs, random_state=42, penalty=l2, n_jobs=1, max_iter=2000, C=100 \n",
      "[CV]  solver=lbfgs, random_state=42, penalty=l2, n_jobs=1, max_iter=2000, C=100, total=   0.1s\n",
      "[CV] solver=liblinear, random_state=42, penalty=l2, n_jobs=1, max_iter=2000, C=100 \n",
      "[CV]  solver=liblinear, random_state=42, penalty=l2, n_jobs=1, max_iter=2000, C=100, total=   0.0s\n",
      "[CV] solver=liblinear, random_state=42, penalty=l2, n_jobs=1, max_iter=2000, C=100 \n",
      "[CV]  solver=liblinear, random_state=42, penalty=l2, n_jobs=1, max_iter=2000, C=100, total=   0.0s\n",
      "[CV] solver=liblinear, random_state=42, penalty=l2, n_jobs=1, max_iter=2000, C=100 \n",
      "[CV]  solver=liblinear, random_state=42, penalty=l2, n_jobs=1, max_iter=2000, C=100, total=   0.0s\n",
      "[CV] solver=newton-cg, random_state=42, penalty=l2, n_jobs=1, max_iter=2000, C=10 \n",
      "[CV]  solver=newton-cg, random_state=42, penalty=l2, n_jobs=1, max_iter=2000, C=10, total=   0.0s\n",
      "[CV] solver=newton-cg, random_state=42, penalty=l2, n_jobs=1, max_iter=2000, C=10 \n",
      "[CV]  solver=newton-cg, random_state=42, penalty=l2, n_jobs=1, max_iter=2000, C=10, total=   0.0s\n",
      "[CV] solver=newton-cg, random_state=42, penalty=l2, n_jobs=1, max_iter=2000, C=10 \n",
      "[CV]  solver=newton-cg, random_state=42, penalty=l2, n_jobs=1, max_iter=2000, C=10, total=   0.0s\n",
      "[CV] solver=lbfgs, random_state=42, penalty=l2, n_jobs=1, max_iter=2000, C=10 \n",
      "[CV]  solver=lbfgs, random_state=42, penalty=l2, n_jobs=1, max_iter=2000, C=10, total=   0.1s\n",
      "[CV] solver=lbfgs, random_state=42, penalty=l2, n_jobs=1, max_iter=2000, C=10 \n",
      "[CV]  solver=lbfgs, random_state=42, penalty=l2, n_jobs=1, max_iter=2000, C=10, total=   0.1s\n",
      "[CV] solver=lbfgs, random_state=42, penalty=l2, n_jobs=1, max_iter=2000, C=10 \n",
      "[CV]  solver=lbfgs, random_state=42, penalty=l2, n_jobs=1, max_iter=2000, C=10, total=   0.2s\n",
      "[CV] solver=liblinear, random_state=42, penalty=l2, n_jobs=1, max_iter=2000, C=10 \n",
      "[CV]  solver=liblinear, random_state=42, penalty=l2, n_jobs=1, max_iter=2000, C=10, total=   0.0s\n",
      "[CV] solver=liblinear, random_state=42, penalty=l2, n_jobs=1, max_iter=2000, C=10 \n",
      "[CV]  solver=liblinear, random_state=42, penalty=l2, n_jobs=1, max_iter=2000, C=10, total=   0.0s\n",
      "[CV] solver=liblinear, random_state=42, penalty=l2, n_jobs=1, max_iter=2000, C=10 \n",
      "[CV]  solver=liblinear, random_state=42, penalty=l2, n_jobs=1, max_iter=2000, C=10, total=   0.0s\n",
      "[CV] solver=newton-cg, random_state=42, penalty=l2, n_jobs=1, max_iter=2000, C=1.0 \n",
      "[CV]  solver=newton-cg, random_state=42, penalty=l2, n_jobs=1, max_iter=2000, C=1.0, total=   0.0s\n",
      "[CV] solver=newton-cg, random_state=42, penalty=l2, n_jobs=1, max_iter=2000, C=1.0 \n",
      "[CV]  solver=newton-cg, random_state=42, penalty=l2, n_jobs=1, max_iter=2000, C=1.0, total=   0.0s\n",
      "[CV] solver=newton-cg, random_state=42, penalty=l2, n_jobs=1, max_iter=2000, C=1.0 \n",
      "[CV]  solver=newton-cg, random_state=42, penalty=l2, n_jobs=1, max_iter=2000, C=1.0, total=   0.0s\n",
      "[CV] solver=lbfgs, random_state=42, penalty=l2, n_jobs=1, max_iter=2000, C=1.0 \n",
      "[CV]  solver=lbfgs, random_state=42, penalty=l2, n_jobs=1, max_iter=2000, C=1.0, total=   0.1s\n",
      "[CV] solver=lbfgs, random_state=42, penalty=l2, n_jobs=1, max_iter=2000, C=1.0 \n",
      "[CV]  solver=lbfgs, random_state=42, penalty=l2, n_jobs=1, max_iter=2000, C=1.0, total=   0.1s\n",
      "[CV] solver=lbfgs, random_state=42, penalty=l2, n_jobs=1, max_iter=2000, C=1.0 \n",
      "[CV]  solver=lbfgs, random_state=42, penalty=l2, n_jobs=1, max_iter=2000, C=1.0, total=   0.1s\n",
      "[CV] solver=liblinear, random_state=42, penalty=l2, n_jobs=1, max_iter=2000, C=1.0 \n",
      "[CV]  solver=liblinear, random_state=42, penalty=l2, n_jobs=1, max_iter=2000, C=1.0, total=   0.0s\n",
      "[CV] solver=liblinear, random_state=42, penalty=l2, n_jobs=1, max_iter=2000, C=1.0 \n",
      "[CV]  solver=liblinear, random_state=42, penalty=l2, n_jobs=1, max_iter=2000, C=1.0, total=   0.0s\n",
      "[CV] solver=liblinear, random_state=42, penalty=l2, n_jobs=1, max_iter=2000, C=1.0 \n",
      "[CV]  solver=liblinear, random_state=42, penalty=l2, n_jobs=1, max_iter=2000, C=1.0, total=   0.0s\n",
      "[CV] solver=newton-cg, random_state=42, penalty=l2, n_jobs=1, max_iter=2000, C=0.1 \n",
      "[CV]  solver=newton-cg, random_state=42, penalty=l2, n_jobs=1, max_iter=2000, C=0.1, total=   0.0s\n",
      "[CV] solver=newton-cg, random_state=42, penalty=l2, n_jobs=1, max_iter=2000, C=0.1 \n",
      "[CV]  solver=newton-cg, random_state=42, penalty=l2, n_jobs=1, max_iter=2000, C=0.1, total=   0.0s\n",
      "[CV] solver=newton-cg, random_state=42, penalty=l2, n_jobs=1, max_iter=2000, C=0.1 \n",
      "[CV]  solver=newton-cg, random_state=42, penalty=l2, n_jobs=1, max_iter=2000, C=0.1, total=   0.0s\n",
      "[CV] solver=lbfgs, random_state=42, penalty=l2, n_jobs=1, max_iter=2000, C=0.1 \n",
      "[CV]  solver=lbfgs, random_state=42, penalty=l2, n_jobs=1, max_iter=2000, C=0.1, total=   0.1s\n",
      "[CV] solver=lbfgs, random_state=42, penalty=l2, n_jobs=1, max_iter=2000, C=0.1 \n",
      "[CV]  solver=lbfgs, random_state=42, penalty=l2, n_jobs=1, max_iter=2000, C=0.1, total=   0.1s\n",
      "[CV] solver=lbfgs, random_state=42, penalty=l2, n_jobs=1, max_iter=2000, C=0.1 \n",
      "[CV]  solver=lbfgs, random_state=42, penalty=l2, n_jobs=1, max_iter=2000, C=0.1, total=   0.1s\n",
      "[CV] solver=liblinear, random_state=42, penalty=l2, n_jobs=1, max_iter=2000, C=0.1 \n",
      "[CV]  solver=liblinear, random_state=42, penalty=l2, n_jobs=1, max_iter=2000, C=0.1, total=   0.0s\n",
      "[CV] solver=liblinear, random_state=42, penalty=l2, n_jobs=1, max_iter=2000, C=0.1 \n",
      "[CV]  solver=liblinear, random_state=42, penalty=l2, n_jobs=1, max_iter=2000, C=0.1, total=   0.0s\n",
      "[CV] solver=liblinear, random_state=42, penalty=l2, n_jobs=1, max_iter=2000, C=0.1 \n",
      "[CV]  solver=liblinear, random_state=42, penalty=l2, n_jobs=1, max_iter=2000, C=0.1, total=   0.0s\n",
      "[CV] solver=newton-cg, random_state=42, penalty=l2, n_jobs=1, max_iter=2000, C=0.01 \n",
      "[CV]  solver=newton-cg, random_state=42, penalty=l2, n_jobs=1, max_iter=2000, C=0.01, total=   0.0s\n",
      "[CV] solver=newton-cg, random_state=42, penalty=l2, n_jobs=1, max_iter=2000, C=0.01 \n",
      "[CV]  solver=newton-cg, random_state=42, penalty=l2, n_jobs=1, max_iter=2000, C=0.01, total=   0.0s\n",
      "[CV] solver=newton-cg, random_state=42, penalty=l2, n_jobs=1, max_iter=2000, C=0.01 \n",
      "[CV]  solver=newton-cg, random_state=42, penalty=l2, n_jobs=1, max_iter=2000, C=0.01, total=   0.0s\n",
      "[CV] solver=lbfgs, random_state=42, penalty=l2, n_jobs=1, max_iter=2000, C=0.01 \n",
      "[CV]  solver=lbfgs, random_state=42, penalty=l2, n_jobs=1, max_iter=2000, C=0.01, total=   0.1s\n",
      "[CV] solver=lbfgs, random_state=42, penalty=l2, n_jobs=1, max_iter=2000, C=0.01 \n",
      "[CV]  solver=lbfgs, random_state=42, penalty=l2, n_jobs=1, max_iter=2000, C=0.01, total=   0.1s\n",
      "[CV] solver=lbfgs, random_state=42, penalty=l2, n_jobs=1, max_iter=2000, C=0.01 \n",
      "[CV]  solver=lbfgs, random_state=42, penalty=l2, n_jobs=1, max_iter=2000, C=0.01, total=   0.1s\n",
      "[CV] solver=liblinear, random_state=42, penalty=l2, n_jobs=1, max_iter=2000, C=0.01 \n",
      "[CV]  solver=liblinear, random_state=42, penalty=l2, n_jobs=1, max_iter=2000, C=0.01, total=   0.0s\n",
      "[CV] solver=liblinear, random_state=42, penalty=l2, n_jobs=1, max_iter=2000, C=0.01 \n",
      "[CV]  solver=liblinear, random_state=42, penalty=l2, n_jobs=1, max_iter=2000, C=0.01, total=   0.0s\n",
      "[CV] solver=liblinear, random_state=42, penalty=l2, n_jobs=1, max_iter=2000, C=0.01 \n",
      "[CV]  solver=liblinear, random_state=42, penalty=l2, n_jobs=1, max_iter=2000, C=0.01, total=   0.0s\n"
     ]
    },
    {
     "name": "stderr",
     "output_type": "stream",
     "text": [
      "[Parallel(n_jobs=1)]: Done  45 out of  45 | elapsed:    2.2s finished\n"
     ]
    },
    {
     "data": {
      "text/plain": [
       "RandomizedSearchCV(cv=3, estimator=LogisticRegression(), n_iter=30, n_jobs=1,\n",
       "                   param_distributions={'C': [100, 10, 1.0, 0.1, 0.01],\n",
       "                                        'max_iter': [2000], 'n_jobs': [1],\n",
       "                                        'penalty': ['l2'], 'random_state': [42],\n",
       "                                        'solver': ['newton-cg', 'lbfgs',\n",
       "                                                   'liblinear']},\n",
       "                   random_state=42, verbose=2)"
      ]
     },
     "execution_count": 40,
     "metadata": {},
     "output_type": "execute_result"
    }
   ],
   "source": [
    "# Use the random grid to search for best hyperparameters\n",
    "# First create the base model to tune\n",
    "lr = LogisticRegression()\n",
    "# Random search of parameters, using 3 fold cross validation, \n",
    "# search across 100 different combinations, and use all available cores\n",
    "lr_random = RandomizedSearchCV(estimator = lr, param_distributions = random_grid, n_iter = 30, cv = 3, verbose=2, random_state=42, n_jobs = 1)\n",
    "# Fit the random search model\n",
    "lr_random.fit(X_train, y_train)"
   ]
  },
  {
   "cell_type": "code",
   "execution_count": 41,
   "metadata": {},
   "outputs": [
    {
     "data": {
      "text/plain": [
       "{'solver': 'liblinear',\n",
       " 'random_state': 42,\n",
       " 'penalty': 'l2',\n",
       " 'n_jobs': 1,\n",
       " 'max_iter': 2000,\n",
       " 'C': 1.0}"
      ]
     },
     "execution_count": 41,
     "metadata": {},
     "output_type": "execute_result"
    }
   ],
   "source": [
    "lr_best_params = lr_random.best_params_\n",
    "lr_best_params"
   ]
  },
  {
   "cell_type": "markdown",
   "metadata": {},
   "source": [
    "# Logistic Regression Model Training with Tuned Hyperparameters"
   ]
  },
  {
   "cell_type": "code",
   "execution_count": 42,
   "metadata": {},
   "outputs": [],
   "source": [
    "lr_model = LogisticRegression(solver = lr_best_params['solver'], \n",
    "                              penalty = lr_best_params['penalty'], \n",
    "                              max_iter = lr_best_params['max_iter'], \n",
    "                              C = lr_best_params['C'],\n",
    "                              random_state = 42,\n",
    "                              n_jobs = 1\n",
    "                             )\n",
    "\n",
    "fitted = lr_model.fit(X_train, y_train)\n",
    "lr_predictions_test = fitted.predict(X_test)\n",
    "lr_predictions_train = fitted.predict(X_train)"
   ]
  },
  {
   "cell_type": "code",
   "execution_count": 43,
   "metadata": {},
   "outputs": [
    {
     "name": "stdout",
     "output_type": "stream",
     "text": [
      "training accuracy for logistic regression: \n"
     ]
    },
    {
     "data": {
      "text/plain": [
       "0.854628921193573"
      ]
     },
     "execution_count": 43,
     "metadata": {},
     "output_type": "execute_result"
    }
   ],
   "source": [
    "print('training accuracy for logistic regression: ')\n",
    "np.mean(y_train == lr_predictions_train)"
   ]
  },
  {
   "cell_type": "code",
   "execution_count": 44,
   "metadata": {},
   "outputs": [
    {
     "name": "stdout",
     "output_type": "stream",
     "text": [
      "test accuracy for logistic regression: \n"
     ]
    },
    {
     "data": {
      "text/plain": [
       "0.8486238532110092"
      ]
     },
     "execution_count": 44,
     "metadata": {},
     "output_type": "execute_result"
    }
   ],
   "source": [
    "print('test accuracy for logistic regression: ')\n",
    "np.mean(y_test == lr_predictions_test)"
   ]
  },
  {
   "cell_type": "markdown",
   "metadata": {},
   "source": [
    "# Validation for Tuned Logistic Regression Model"
   ]
  },
  {
   "cell_type": "code",
   "execution_count": 45,
   "metadata": {},
   "outputs": [
    {
     "name": "stdout",
     "output_type": "stream",
     "text": [
      "precision: 0.8354430379746836\n",
      "recall: 0.8800000000000001\n"
     ]
    }
   ],
   "source": [
    "confusion_matrix_lr = metrics.confusion_matrix(y_test, lr_predictions_test, normalize = 'all')\n",
    "precision_lr = confusion_matrix_lr[1][1] / (confusion_matrix_lr[1][1] + confusion_matrix_lr[0][1])\n",
    "recall_lr = confusion_matrix_lr[1][1] / (confusion_matrix_lr[1][1] + confusion_matrix_lr[1][0])\n",
    "print('precision: ' + str(precision_lr))\n",
    "print('recall: ' + str(recall_lr))"
   ]
  },
  {
   "cell_type": "code",
   "execution_count": 46,
   "metadata": {},
   "outputs": [
    {
     "data": {
      "text/plain": [
       "(array([0.        , 0.18483412, 1.        ]),\n",
       " array([0.  , 0.88, 1.  ]),\n",
       " array([2, 1, 0]))"
      ]
     },
     "execution_count": 46,
     "metadata": {},
     "output_type": "execute_result"
    }
   ],
   "source": [
    "lr_fpr, lr_tpr, lr_thresholds = metrics.roc_curve(y_test, lr_predictions_test)\n",
    "lr_fpr, lr_tpr, lr_thresholds"
   ]
  },
  {
   "cell_type": "code",
   "execution_count": 47,
   "metadata": {},
   "outputs": [
    {
     "data": {
      "text/plain": [
       "[<matplotlib.lines.Line2D at 0x7fdd9de706a0>]"
      ]
     },
     "execution_count": 47,
     "metadata": {},
     "output_type": "execute_result"
    },
    {
     "data": {
      "image/png": "[encoded data removed]",
      "text/plain": [
       "<Figure size 432x288 with 1 Axes>"
      ]
     },
     "metadata": {
      "needs_background": "light"
     },
     "output_type": "display_data"
    }
   ],
   "source": [
    "plt.xlabel('FPR')\n",
    "plt.ylabel('TPR')\n",
    "plt.title('ROC Curve for the Logistic Regression Model')\n",
    "plt.plot(lr_fpr, lr_tpr)"
   ]
  },
  {
   "cell_type": "markdown",
   "metadata": {},
   "source": [
    "# Confidence Interval Visualization for Tuned Logistic Regression"
   ]
  },
  {
   "cell_type": "code",
   "execution_count": 48,
   "metadata": {},
   "outputs": [],
   "source": [
    "train_accuracy = []\n",
    "test_accuracy = []\n",
    "for i in np.arange(100):\n",
    "    #print(i)\n",
    "    lr_model = LogisticRegression(solver = lr_best_params['solver'], \n",
    "                                  penalty = lr_best_params['penalty'], \n",
    "                                  max_iter = lr_best_params['max_iter'], \n",
    "                                  C = lr_best_params['C'],\n",
    "                                  random_state = 42,\n",
    "                                  n_jobs = 1\n",
    "                                 )\n",
    "    \n",
    "    sample = pitching.sample(int(0.8 * len(pitching)))\n",
    "    s_train, s_test = train_test_split(sample)\n",
    "\n",
    "    s_X = s_train.drop(columns = ['playerID', 'yearID', 'teamID', 'is_all_star'])\n",
    "    s_y = s_train['is_all_star']\n",
    "    b_fitted = rf_model.fit(s_X, s_y)\n",
    "    lr_predictions_test = b_fitted.predict(s_test.drop(columns = ['playerID', 'yearID', 'teamID', 'is_all_star']))\n",
    "    lr_predictions_train = fitted.predict(s_X)\n",
    "    train_accuracy = np.append(train_accuracy, np.mean(s_train['is_all_star'].values == lr_predictions_train))\n",
    "    test_accuracy = np.append(test_accuracy, np.mean(s_test['is_all_star'].values == lr_predictions_test))\n",
    "\n",
    "mean_confidence_interval_train = mean_confidence_interval(train_accuracy)\n",
    "mean_confidence_interval_test = mean_confidence_interval(test_accuracy)"
   ]
  },
  {
   "cell_type": "code",
   "execution_count": 49,
   "metadata": {
    "scrolled": true
   },
   "outputs": [
    {
     "data": {
      "text/plain": [
       "(array([ 4.,  4.,  5., 16., 15., 22., 17., 10.,  5.,  2.]),\n",
       " array([0.8354067 , 0.83885167, 0.84229665, 0.84574163, 0.8491866 ,\n",
       "        0.85263158, 0.85607656, 0.85952153, 0.86296651, 0.86641148,\n",
       "        0.86985646]),\n",
       " <a list of 10 Patch objects>)"
      ]
     },
     "execution_count": 49,
     "metadata": {},
     "output_type": "execute_result"
    },
    {
     "data": {
      "image/png": "[encoded data removed]",
      "text/plain": [
       "<Figure size 960x320 with 1 Axes>"
      ]
     },
     "metadata": {
      "needs_background": "light"
     },
     "output_type": "display_data"
    }
   ],
   "source": [
    "figure(figsize=(12, 4), dpi=80)\n",
    "plt.xlabel('Train accuracy')\n",
    "plt.ylabel('frequency')\n",
    "plt.title('Logisitic Regression Training Accuracy for Predicting All-Star status from 100 samples')\n",
    "plt.hist(train_accuracy)"
   ]
  },
  {
   "cell_type": "code",
   "execution_count": 50,
   "metadata": {},
   "outputs": [
    {
     "data": {
      "text/plain": [
       "(array([ 4., 10., 17., 14., 20., 17., 10.,  6.,  1.,  1.]),\n",
       " array([0.82234957, 0.83094556, 0.83954155, 0.84813754, 0.85673352,\n",
       "        0.86532951, 0.8739255 , 0.88252149, 0.89111748, 0.89971347,\n",
       "        0.90830946]),\n",
       " <a list of 10 Patch objects>)"
      ]
     },
     "execution_count": 50,
     "metadata": {},
     "output_type": "execute_result"
    },
    {
     "data": {
      "image/png": "[encoded data removed]",
      "text/plain": [
       "<Figure size 960x320 with 1 Axes>"
      ]
     },
     "metadata": {
      "needs_background": "light"
     },
     "output_type": "display_data"
    }
   ],
   "source": [
    "figure(figsize=(12, 4), dpi=80)\n",
    "plt.xlabel('Test accuracy')\n",
    "plt.ylabel('frequency')\n",
    "plt.title('Logisitic Regression Testing Accuracy for Predicting All-Star status from 100 samples')\n",
    "plt.hist(test_accuracy)"
   ]
  },
  {
   "cell_type": "markdown",
   "metadata": {},
   "source": [
    "# Uncertainty Interval for Logistic Regression (GLM) Testing Accuracy"
   ]
  },
  {
   "cell_type": "code",
   "execution_count": 51,
   "metadata": {},
   "outputs": [],
   "source": [
    "logistic_regression_sample_accuracies = dict()\n",
    "logistic_regression_sample_accuracies['min_test_acc'] = min(test_accuracy)\n",
    "logistic_regression_sample_accuracies['avg_test_acc'] = np.mean(test_accuracy)\n",
    "logistic_regression_sample_accuracies['max_test_acc'] = max(test_accuracy)"
   ]
  },
  {
   "cell_type": "code",
   "execution_count": 52,
   "metadata": {},
   "outputs": [
    {
     "data": {
      "text/plain": [
       "{'min_test_acc': 0.8223495702005731,\n",
       " 'avg_test_acc': 0.8568481375358167,\n",
       " 'max_test_acc': 0.9083094555873925}"
      ]
     },
     "execution_count": 52,
     "metadata": {},
     "output_type": "execute_result"
    }
   ],
   "source": [
    "logistic_regression_sample_accuracies"
   ]
  },
  {
   "cell_type": "code",
   "execution_count": 56,
   "metadata": {},
   "outputs": [
    {
     "data": {
      "text/plain": [
       "0.890847128642818"
      ]
     },
     "execution_count": 56,
     "metadata": {},
     "output_type": "execute_result"
    }
   ],
   "source": [
    "percentile_95 = np.mean(test_accuracy) + 2 * test_accuracy.std()\n",
    "percentile_95"
   ]
  },
  {
   "cell_type": "code",
   "execution_count": 57,
   "metadata": {},
   "outputs": [
    {
     "data": {
      "text/plain": [
       "0.8228491464288153"
      ]
     },
     "execution_count": 57,
     "metadata": {},
     "output_type": "execute_result"
    }
   ],
   "source": [
    "percentile_05 = np.mean(test_accuracy) - 2 * test_accuracy.std()\n",
    "percentile_05"
   ]
  },
  {
   "cell_type": "code",
   "execution_count": null,
   "metadata": {},
   "outputs": [],
   "source": []
  }
 ],
 "metadata": {
  "kernelspec": {
   "display_name": "Python 3",
   "language": "python",
   "name": "python3"
  },
  "language_info": {
   "codemirror_mode": {
    "name": "ipython",
    "version": 3
   },
   "file_extension": ".py",
   "mimetype": "text/x-python",
   "name": "python",
   "nbconvert_exporter": "python",
   "pygments_lexer": "ipython3",
   "version": "3.8.3"
  }
 },
 "nbformat": 4,
 "nbformat_minor": 4
}
